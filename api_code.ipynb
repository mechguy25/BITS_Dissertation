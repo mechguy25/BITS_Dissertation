{
 "cells": [
  {
   "cell_type": "code",
   "execution_count": 1,
   "metadata": {},
   "outputs": [
    {
     "name": "stderr",
     "output_type": "stream",
     "text": [
      "C:\\Users\\chandv15\\AppData\\Local\\Continuum\\anaconda3\\lib\\site-packages\\pandas\\compat\\_optional.py:138: UserWarning: Pandas requires version '2.7.0' or newer of 'numexpr' (version '2.6.8' currently installed).\n",
      "  warnings.warn(msg, UserWarning)\n"
     ]
    }
   ],
   "source": [
    "import pandas as pd"
   ]
  },
  {
   "cell_type": "code",
   "execution_count": 2,
   "metadata": {},
   "outputs": [],
   "source": [
    "import joblib"
   ]
  },
  {
   "cell_type": "code",
   "execution_count": 3,
   "metadata": {},
   "outputs": [
    {
     "name": "stderr",
     "output_type": "stream",
     "text": [
      "C:\\Users\\chandv15\\AppData\\Local\\Continuum\\anaconda3\\lib\\site-packages\\sklearn\\utils\\validation.py:37: DeprecationWarning: distutils Version classes are deprecated. Use packaging.version instead.\n",
      "  LARGE_SPARSE_SUPPORTED = LooseVersion(scipy_version) >= '0.14.0'\n",
      "C:\\Users\\chandv15\\AppData\\Local\\Continuum\\anaconda3\\lib\\site-packages\\sklearn\\linear_model\\least_angle.py:35: DeprecationWarning: `np.float` is a deprecated alias for the builtin `float`. To silence this warning, use `float` by itself. Doing this will not modify any behavior and is safe. If you specifically wanted the numpy scalar type, use `np.float64` here.\n",
      "Deprecated in NumPy 1.20; for more details and guidance: https://numpy.org/devdocs/release/1.20.0-notes.html#deprecations\n",
      "  eps=np.finfo(np.float).eps,\n",
      "C:\\Users\\chandv15\\AppData\\Local\\Continuum\\anaconda3\\lib\\site-packages\\sklearn\\linear_model\\least_angle.py:597: DeprecationWarning: `np.float` is a deprecated alias for the builtin `float`. To silence this warning, use `float` by itself. Doing this will not modify any behavior and is safe. If you specifically wanted the numpy scalar type, use `np.float64` here.\n",
      "Deprecated in NumPy 1.20; for more details and guidance: https://numpy.org/devdocs/release/1.20.0-notes.html#deprecations\n",
      "  eps=np.finfo(np.float).eps, copy_X=True, fit_path=True,\n",
      "C:\\Users\\chandv15\\AppData\\Local\\Continuum\\anaconda3\\lib\\site-packages\\sklearn\\linear_model\\least_angle.py:836: DeprecationWarning: `np.float` is a deprecated alias for the builtin `float`. To silence this warning, use `float` by itself. Doing this will not modify any behavior and is safe. If you specifically wanted the numpy scalar type, use `np.float64` here.\n",
      "Deprecated in NumPy 1.20; for more details and guidance: https://numpy.org/devdocs/release/1.20.0-notes.html#deprecations\n",
      "  eps=np.finfo(np.float).eps, copy_X=True, fit_path=True,\n",
      "C:\\Users\\chandv15\\AppData\\Local\\Continuum\\anaconda3\\lib\\site-packages\\sklearn\\linear_model\\least_angle.py:862: DeprecationWarning: `np.float` is a deprecated alias for the builtin `float`. To silence this warning, use `float` by itself. Doing this will not modify any behavior and is safe. If you specifically wanted the numpy scalar type, use `np.float64` here.\n",
      "Deprecated in NumPy 1.20; for more details and guidance: https://numpy.org/devdocs/release/1.20.0-notes.html#deprecations\n",
      "  eps=np.finfo(np.float).eps, positive=False):\n",
      "C:\\Users\\chandv15\\AppData\\Local\\Continuum\\anaconda3\\lib\\site-packages\\sklearn\\linear_model\\least_angle.py:1097: DeprecationWarning: `np.float` is a deprecated alias for the builtin `float`. To silence this warning, use `float` by itself. Doing this will not modify any behavior and is safe. If you specifically wanted the numpy scalar type, use `np.float64` here.\n",
      "Deprecated in NumPy 1.20; for more details and guidance: https://numpy.org/devdocs/release/1.20.0-notes.html#deprecations\n",
      "  max_n_alphas=1000, n_jobs=None, eps=np.finfo(np.float).eps,\n",
      "C:\\Users\\chandv15\\AppData\\Local\\Continuum\\anaconda3\\lib\\site-packages\\sklearn\\linear_model\\least_angle.py:1344: DeprecationWarning: `np.float` is a deprecated alias for the builtin `float`. To silence this warning, use `float` by itself. Doing this will not modify any behavior and is safe. If you specifically wanted the numpy scalar type, use `np.float64` here.\n",
      "Deprecated in NumPy 1.20; for more details and guidance: https://numpy.org/devdocs/release/1.20.0-notes.html#deprecations\n",
      "  max_n_alphas=1000, n_jobs=None, eps=np.finfo(np.float).eps,\n",
      "C:\\Users\\chandv15\\AppData\\Local\\Continuum\\anaconda3\\lib\\site-packages\\sklearn\\linear_model\\least_angle.py:1480: DeprecationWarning: `np.float` is a deprecated alias for the builtin `float`. To silence this warning, use `float` by itself. Doing this will not modify any behavior and is safe. If you specifically wanted the numpy scalar type, use `np.float64` here.\n",
      "Deprecated in NumPy 1.20; for more details and guidance: https://numpy.org/devdocs/release/1.20.0-notes.html#deprecations\n",
      "  eps=np.finfo(np.float).eps, copy_X=True, positive=False):\n"
     ]
    },
    {
     "name": "stdout",
     "output_type": "stream",
     "text": [
      "Model loaded\n",
      "Model columns loaded\n"
     ]
    },
    {
     "name": "stderr",
     "output_type": "stream",
     "text": [
      "C:\\Users\\chandv15\\AppData\\Local\\Continuum\\anaconda3\\lib\\site-packages\\sklearn\\linear_model\\randomized_l1.py:152: DeprecationWarning: `np.float` is a deprecated alias for the builtin `float`. To silence this warning, use `float` by itself. Doing this will not modify any behavior and is safe. If you specifically wanted the numpy scalar type, use `np.float64` here.\n",
      "Deprecated in NumPy 1.20; for more details and guidance: https://numpy.org/devdocs/release/1.20.0-notes.html#deprecations\n",
      "  precompute=False, eps=np.finfo(np.float).eps,\n",
      "C:\\Users\\chandv15\\AppData\\Local\\Continuum\\anaconda3\\lib\\site-packages\\sklearn\\linear_model\\randomized_l1.py:320: DeprecationWarning: `np.float` is a deprecated alias for the builtin `float`. To silence this warning, use `float` by itself. Doing this will not modify any behavior and is safe. If you specifically wanted the numpy scalar type, use `np.float64` here.\n",
      "Deprecated in NumPy 1.20; for more details and guidance: https://numpy.org/devdocs/release/1.20.0-notes.html#deprecations\n",
      "  eps=np.finfo(np.float).eps, random_state=None,\n",
      "C:\\Users\\chandv15\\AppData\\Local\\Continuum\\anaconda3\\lib\\site-packages\\sklearn\\linear_model\\randomized_l1.py:580: DeprecationWarning: `np.float` is a deprecated alias for the builtin `float`. To silence this warning, use `float` by itself. Doing this will not modify any behavior and is safe. If you specifically wanted the numpy scalar type, use `np.float64` here.\n",
      "Deprecated in NumPy 1.20; for more details and guidance: https://numpy.org/devdocs/release/1.20.0-notes.html#deprecations\n",
      "  eps=4 * np.finfo(np.float).eps, n_jobs=None,\n"
     ]
    }
   ],
   "source": [
    "lr_model = joblib.load(\"lr.joblib\") # Load \"model.pkl\"\n",
    "print ('Model loaded')\n",
    "model_columns = joblib.load(\"columns.joblib\") # Load \"model_columns.pkl\"\n",
    "print ('Model columns loaded')"
   ]
  },
  {
   "cell_type": "code",
   "execution_count": 4,
   "metadata": {},
   "outputs": [],
   "source": [
    "from ipywidgets import widgets"
   ]
  },
  {
   "cell_type": "code",
   "execution_count": 5,
   "metadata": {},
   "outputs": [
    {
     "data": {
      "application/vnd.jupyter.widget-view+json": {
       "model_id": "7beccab93294457db36334fdcfec1bf4",
       "version_major": 2,
       "version_minor": 0
      },
      "text/plain": [
       "Label(value='select region from the below drop down')"
      ]
     },
     "metadata": {},
     "output_type": "display_data"
    },
    {
     "data": {
      "application/vnd.jupyter.widget-view+json": {
       "model_id": "cc14f30a2a3e488d80d9dd8b48a80019",
       "version_major": 2,
       "version_minor": 0
      },
      "text/plain": [
       "Dropdown(description='Region:', options=('APJ', 'CSB', 'EMEA', 'NAMERICA', 'LA', 'Greater China'), value='APJ'…"
      ]
     },
     "metadata": {},
     "output_type": "display_data"
    }
   ],
   "source": [
    "lbl_rgn = widgets.Label('select region from the below drop down')\n",
    "display(lbl_rgn)\n",
    "w_rgn = widgets.Dropdown(\n",
    "    options=['APJ','CSB','EMEA','NAMERICA','LA','Greater China'],\n",
    "    value='APJ',\n",
    "    description='Region:',\n",
    ")\n",
    "\n",
    "def on_change_rgn(change):\n",
    "    if change['type'] == 'change' and change['name'] == 'value':\n",
    "        global rgn_val\n",
    "        rgn_val = change['new']\n",
    "\n",
    "w_rgn.observe(on_change_rgn)\n",
    "\n",
    "display(w_rgn)"
   ]
  },
  {
   "cell_type": "code",
   "execution_count": 6,
   "metadata": {},
   "outputs": [
    {
     "data": {
      "application/vnd.jupyter.widget-view+json": {
       "model_id": "6c570b05d3ee43de801aac6a435fa1aa",
       "version_major": 2,
       "version_minor": 0
      },
      "text/plain": [
       "Label(value='select industry from the below drop down')"
      ]
     },
     "metadata": {},
     "output_type": "display_data"
    },
    {
     "data": {
      "application/vnd.jupyter.widget-view+json": {
       "model_id": "94cd3252d009476586a94b16cc40933a",
       "version_major": 2,
       "version_minor": 0
      },
      "text/plain": [
       "Dropdown(description='Industry:', options=('Manufacturing', 'Agriculture', 'Business, Engineering & Consumer S…"
      ]
     },
     "metadata": {},
     "output_type": "display_data"
    }
   ],
   "source": [
    "lbl_ind = widgets.Label('select industry from the below drop down')\n",
    "display(lbl_ind)\n",
    "w_ind = widgets.Dropdown(\n",
    "    options=['Manufacturing','Agriculture','Business, Engineering & Consumer Services','Telecom, Media & Entertainment','Government','Education','Banking, Financial Services & Insurance','Retail','Energy','Construction & Real Estate','Web & Tech','Transportation','Healthcare & Life Sciences'],\n",
    "    value='Manufacturing',\n",
    "    description='Industry:',\n",
    ")\n",
    "\n",
    "def on_change_ind(change):\n",
    "    if change['type'] == 'change' and change['name'] == 'value':\n",
    "        global ind_val\n",
    "        ind_val = change['new']\n",
    "\n",
    "w_ind.observe(on_change_ind)\n",
    "\n",
    "display(w_ind)"
   ]
  },
  {
   "cell_type": "code",
   "execution_count": 7,
   "metadata": {},
   "outputs": [
    {
     "data": {
      "application/vnd.jupyter.widget-view+json": {
       "model_id": "6cf8e04685944de9ad6db0c805a0475c",
       "version_major": 2,
       "version_minor": 0
      },
      "text/plain": [
       "Label(value='select Tier from the below drop down')"
      ]
     },
     "metadata": {},
     "output_type": "display_data"
    },
    {
     "data": {
      "application/vnd.jupyter.widget-view+json": {
       "model_id": "661595f46cbc410b9a21dad51e1dc61d",
       "version_major": 2,
       "version_minor": 0
      },
      "text/plain": [
       "Dropdown(description='Tier:', options=('T1', 'T2', 'T3', 'T4', 'T5'), value='T1')"
      ]
     },
     "metadata": {},
     "output_type": "display_data"
    }
   ],
   "source": [
    "lbl_tier = widgets.Label('select Tier from the below drop down')\n",
    "display(lbl_tier)\n",
    "w_tier = widgets.Dropdown(\n",
    "    options=['T1','T2','T3','T4','T5'],\n",
    "    value='T1',\n",
    "    description='Tier:',\n",
    ")\n",
    "\n",
    "def on_change_tier(change):\n",
    "    if change['type'] == 'change' and change['name'] == 'value':\n",
    "        global tier_val\n",
    "        tier_val = change['new']\n",
    "\n",
    "w_tier.observe(on_change_tier)\n",
    "\n",
    "display(w_tier)"
   ]
  },
  {
   "cell_type": "code",
   "execution_count": 8,
   "metadata": {},
   "outputs": [
    {
     "data": {
      "application/vnd.jupyter.widget-view+json": {
       "model_id": "9c91e0753b774bdfb85ebf8110047107",
       "version_major": 2,
       "version_minor": 0
      },
      "text/plain": [
       "Label(value='Enter employee size in the given box')"
      ]
     },
     "metadata": {},
     "output_type": "display_data"
    },
    {
     "data": {
      "application/vnd.jupyter.widget-view+json": {
       "model_id": "c30a03de8b474bf48d1b9a6ace8a047b",
       "version_major": 2,
       "version_minor": 0
      },
      "text/plain": [
       "Text(value='')"
      ]
     },
     "metadata": {},
     "output_type": "display_data"
    }
   ],
   "source": [
    "lbl_emps = widgets.Label('Enter employee size in the given box')\n",
    "display(lbl_emps)\n",
    "emp_sz = widgets.Text()\n",
    "display(emp_sz)"
   ]
  },
  {
   "cell_type": "code",
   "execution_count": 9,
   "metadata": {},
   "outputs": [
    {
     "data": {
      "application/vnd.jupyter.widget-view+json": {
       "model_id": "96c7fc1c00944825a2876e77d141fd51",
       "version_major": 2,
       "version_minor": 0
      },
      "text/plain": [
       "Label(value='Enter buy power in the given box')"
      ]
     },
     "metadata": {},
     "output_type": "display_data"
    },
    {
     "data": {
      "application/vnd.jupyter.widget-view+json": {
       "model_id": "41abfecabee949baaa107d71c635689d",
       "version_major": 2,
       "version_minor": 0
      },
      "text/plain": [
       "Text(value='')"
      ]
     },
     "metadata": {},
     "output_type": "display_data"
    }
   ],
   "source": [
    "lbl_bp = widgets.Label('Enter buy power in the given box')\n",
    "display(lbl_bp)\n",
    "buy_pwr = widgets.Text()\n",
    "display(buy_pwr)"
   ]
  },
  {
   "cell_type": "code",
   "execution_count": 11,
   "metadata": {},
   "outputs": [
    {
     "data": {
      "application/vnd.jupyter.widget-view+json": {
       "model_id": "351ca60f4a574bbe9e68bc4ed3d8c833",
       "version_major": 2,
       "version_minor": 0
      },
      "text/plain": [
       "Label(value='select Decison maker flag from the below drop down')"
      ]
     },
     "metadata": {},
     "output_type": "display_data"
    },
    {
     "data": {
      "application/vnd.jupyter.widget-view+json": {
       "model_id": "69eb5f125ccf4118a6ec0ada5f6889ed",
       "version_major": 2,
       "version_minor": 0
      },
      "text/plain": [
       "Dropdown(description='Decision Maker:', options=('0', '1'), value='0')"
      ]
     },
     "metadata": {},
     "output_type": "display_data"
    }
   ],
   "source": [
    "lbl_dm = widgets.Label('select Decison maker flag from the below drop down')\n",
    "display(lbl_dm)\n",
    "w_dm = widgets.Dropdown(\n",
    "    options=['0','1'],\n",
    "    value='0',\n",
    "    description='Decision Maker:',\n",
    ")\n",
    "\n",
    "def on_change_dm(change):\n",
    "    if change['type'] == 'change' and change['name'] == 'value':\n",
    "        global dm_val\n",
    "        dm_val = change['new']\n",
    "\n",
    "w_dm.observe(on_change_dm)\n",
    "\n",
    "display(w_dm)"
   ]
  },
  {
   "cell_type": "code",
   "execution_count": 12,
   "metadata": {},
   "outputs": [],
   "source": [
    "json_ = [{\"rol.no\":1231,\"RPTG_SLS_MGMT_LVL_1\":rgn_val,\"DELL_INDUSTRY_TAXONOMY_L1\":ind_val,\"ORG_USER_DEFINED_VALUE_113\":tier_val,\"emp_size\":int(emp_sz.value),\"buy_power\":int(buy_pwr.value),\"decision_maker\":int(dm_val)}]"
   ]
  },
  {
   "cell_type": "code",
   "execution_count": 13,
   "metadata": {},
   "outputs": [
    {
     "data": {
      "text/plain": [
       "[{'rol.no': 1231,\n",
       "  'RPTG_SLS_MGMT_LVL_1': 'LA',\n",
       "  'DELL_INDUSTRY_TAXONOMY_L1': 'Web & Tech',\n",
       "  'ORG_USER_DEFINED_VALUE_113': 'T5',\n",
       "  'emp_size': 600,\n",
       "  'buy_power': 1000000,\n",
       "  'decision_maker': 1}]"
      ]
     },
     "execution_count": 13,
     "metadata": {},
     "output_type": "execute_result"
    }
   ],
   "source": [
    "json_"
   ]
  },
  {
   "cell_type": "code",
   "execution_count": 14,
   "metadata": {},
   "outputs": [],
   "source": [
    "query1 = pd.DataFrame.from_records(json_, index=[\"rol.no\"]).fillna(0)"
   ]
  },
  {
   "cell_type": "code",
   "execution_count": 15,
   "metadata": {},
   "outputs": [],
   "source": [
    "query = pd.get_dummies(query1.apply(pd.to_numeric, errors='ignore', axis=1))\n",
    "query = query.reindex(columns=model_columns, fill_value=0)"
   ]
  },
  {
   "cell_type": "code",
   "execution_count": 16,
   "metadata": {},
   "outputs": [
    {
     "name": "stdout",
     "output_type": "stream",
     "text": [
      "Time taking for conversion predicted class label\n",
      "\n",
      "0\n",
      "\n",
      "Propsect will be converted with in quarter of time\n"
     ]
    }
   ],
   "source": [
    "print(\"Time taking for conversion predicted class label\\n\")\n",
    "val = lr_model.predict(query)[0]\n",
    "print(0)\n",
    "if val == 0:\n",
    "    print(\"\\nPropsect will be converted with in quarter of time\")\n",
    "if val == 1:\n",
    "    print(\"\\nPropsect will be converted with in 1-2 quarter of time\")\n",
    "if val == 2:\n",
    "    print(\"\\nPropsect will be converted with in 2-3 quarter of time\")\n",
    "if val == 3:\n",
    "    print(\"\\nprobability of prospect conversion is very less\")"
   ]
  },
  {
   "cell_type": "code",
   "execution_count": 17,
   "metadata": {},
   "outputs": [
    {
     "data": {
      "text/plain": [
       "array([[6.85655748e-01, 3.02003346e-01, 1.23409061e-02, 3.49635436e-20]])"
      ]
     },
     "execution_count": 17,
     "metadata": {},
     "output_type": "execute_result"
    }
   ],
   "source": [
    "lr_model.predict_proba(query)"
   ]
  },
  {
   "cell_type": "code",
   "execution_count": null,
   "metadata": {},
   "outputs": [],
   "source": [
    "# prining how much duration\n",
    "# html inputs\n",
    "# textual inputs based on precision and recall differences\n",
    "#r2 etc.. metrics\n",
    "# api for lstm\n",
    "# plot for overfitting, std devaition\n",
    "# confusion matrix keras one"
   ]
  }
 ],
 "metadata": {
  "kernelspec": {
   "display_name": "Python 3",
   "language": "python",
   "name": "python3"
  },
  "language_info": {
   "codemirror_mode": {
    "name": "ipython",
    "version": 3
   },
   "file_extension": ".py",
   "mimetype": "text/x-python",
   "name": "python",
   "nbconvert_exporter": "python",
   "pygments_lexer": "ipython3",
   "version": "3.7.1"
  }
 },
 "nbformat": 4,
 "nbformat_minor": 2
}
