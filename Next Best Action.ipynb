{
 "cells": [
  {
   "cell_type": "markdown",
   "metadata": {},
   "source": [
    "# Bring in Data"
   ]
  },
  {
   "cell_type": "code",
   "execution_count": 1,
   "metadata": {},
   "outputs": [],
   "source": [
    "import numpy as np\n",
    "import warnings\n",
    "warnings.filterwarnings(\"ignore\")"
   ]
  },
  {
   "cell_type": "code",
   "execution_count": 2,
   "metadata": {},
   "outputs": [
    {
     "data": {
      "text/html": [
       "<div>\n",
       "<style scoped>\n",
       "    .dataframe tbody tr th:only-of-type {\n",
       "        vertical-align: middle;\n",
       "    }\n",
       "\n",
       "    .dataframe tbody tr th {\n",
       "        vertical-align: top;\n",
       "    }\n",
       "\n",
       "    .dataframe thead th {\n",
       "        text-align: right;\n",
       "    }\n",
       "</style>\n",
       "<table border=\"1\" class=\"dataframe\">\n",
       "  <thead>\n",
       "    <tr style=\"text-align: right;\">\n",
       "      <th></th>\n",
       "      <th>Opportunity</th>\n",
       "      <th>Time</th>\n",
       "      <th>Stage</th>\n",
       "      <th>Action</th>\n",
       "    </tr>\n",
       "  </thead>\n",
       "  <tbody>\n",
       "    <tr>\n",
       "      <th>0</th>\n",
       "      <td>OP001</td>\n",
       "      <td>43456.60550</td>\n",
       "      <td>1</td>\n",
       "      <td>Emailed Client</td>\n",
       "    </tr>\n",
       "    <tr>\n",
       "      <th>1</th>\n",
       "      <td>OP001</td>\n",
       "      <td>43466.19231</td>\n",
       "      <td>1</td>\n",
       "      <td>Emailed Client</td>\n",
       "    </tr>\n",
       "    <tr>\n",
       "      <th>2</th>\n",
       "      <td>OP001</td>\n",
       "      <td>43471.51592</td>\n",
       "      <td>2</td>\n",
       "      <td>Meeting with Client</td>\n",
       "    </tr>\n",
       "    <tr>\n",
       "      <th>3</th>\n",
       "      <td>OP001</td>\n",
       "      <td>43479.39509</td>\n",
       "      <td>3</td>\n",
       "      <td>Presented to Client</td>\n",
       "    </tr>\n",
       "    <tr>\n",
       "      <th>4</th>\n",
       "      <td>OP001</td>\n",
       "      <td>43483.32009</td>\n",
       "      <td>3</td>\n",
       "      <td>Presented to Client</td>\n",
       "    </tr>\n",
       "  </tbody>\n",
       "</table>\n",
       "</div>"
      ],
      "text/plain": [
       "  Opportunity         Time  Stage               Action\n",
       "0       OP001  43456.60550      1       Emailed Client\n",
       "1       OP001  43466.19231      1       Emailed Client\n",
       "2       OP001  43471.51592      2  Meeting with Client\n",
       "3       OP001  43479.39509      3  Presented to Client\n",
       "4       OP001  43483.32009      3  Presented to Client"
      ]
     },
     "execution_count": 2,
     "metadata": {},
     "output_type": "execute_result"
    }
   ],
   "source": [
    "import types\n",
    "import pandas as pd\n",
    "df = pd.read_csv(\"Event.csv\")\n",
    "df.head()"
   ]
  },
  {
   "cell_type": "code",
   "execution_count": 3,
   "metadata": {},
   "outputs": [],
   "source": [
    "df['Event Key'] = df['Stage'].astype(str) +'-'+ df['Action']"
   ]
  },
  {
   "cell_type": "code",
   "execution_count": 4,
   "metadata": {},
   "outputs": [],
   "source": [
    "events = list(df['Event Key'].unique())\n",
    "ev = events.pop(8)\n",
    "events.append(ev)\n",
    "events = ['0-Dummy'] + events"
   ]
  },
  {
   "cell_type": "code",
   "execution_count": 5,
   "metadata": {},
   "outputs": [
    {
     "data": {
      "text/plain": [
       "['0-Dummy',\n",
       " '1-Emailed Client',\n",
       " '2-Meeting with Client',\n",
       " '3-Presented to Client',\n",
       " '4-Prepared Custom Demonstration',\n",
       " '5-Prepared POC',\n",
       " '6-Provided Pre-Sales Support',\n",
       " '8-Prepared Commercials',\n",
       " '9-Negotiation Meeting',\n",
       " '7-Prepared RFP Responses',\n",
       " '10-Commercials Signed',\n",
       " '11-Post Sales Support']"
      ]
     },
     "execution_count": 5,
     "metadata": {},
     "output_type": "execute_result"
    }
   ],
   "source": [
    "events"
   ]
  },
  {
   "cell_type": "code",
   "execution_count": 6,
   "metadata": {},
   "outputs": [
    {
     "data": {
      "text/html": [
       "<div>\n",
       "<style scoped>\n",
       "    .dataframe tbody tr th:only-of-type {\n",
       "        vertical-align: middle;\n",
       "    }\n",
       "\n",
       "    .dataframe tbody tr th {\n",
       "        vertical-align: top;\n",
       "    }\n",
       "\n",
       "    .dataframe thead th {\n",
       "        text-align: right;\n",
       "    }\n",
       "</style>\n",
       "<table border=\"1\" class=\"dataframe\">\n",
       "  <thead>\n",
       "    <tr style=\"text-align: right;\">\n",
       "      <th></th>\n",
       "      <th>Opportunity</th>\n",
       "      <th>Time</th>\n",
       "      <th>Stage</th>\n",
       "      <th>Action</th>\n",
       "      <th>Event Key</th>\n",
       "    </tr>\n",
       "  </thead>\n",
       "  <tbody>\n",
       "    <tr>\n",
       "      <th>0</th>\n",
       "      <td>OP001</td>\n",
       "      <td>43456.60550</td>\n",
       "      <td>1</td>\n",
       "      <td>Emailed Client</td>\n",
       "      <td>1-Emailed Client</td>\n",
       "    </tr>\n",
       "    <tr>\n",
       "      <th>1</th>\n",
       "      <td>OP001</td>\n",
       "      <td>43466.19231</td>\n",
       "      <td>1</td>\n",
       "      <td>Emailed Client</td>\n",
       "      <td>1-Emailed Client</td>\n",
       "    </tr>\n",
       "    <tr>\n",
       "      <th>2</th>\n",
       "      <td>OP001</td>\n",
       "      <td>43471.51592</td>\n",
       "      <td>2</td>\n",
       "      <td>Meeting with Client</td>\n",
       "      <td>2-Meeting with Client</td>\n",
       "    </tr>\n",
       "    <tr>\n",
       "      <th>3</th>\n",
       "      <td>OP001</td>\n",
       "      <td>43479.39509</td>\n",
       "      <td>3</td>\n",
       "      <td>Presented to Client</td>\n",
       "      <td>3-Presented to Client</td>\n",
       "    </tr>\n",
       "    <tr>\n",
       "      <th>4</th>\n",
       "      <td>OP001</td>\n",
       "      <td>43483.32009</td>\n",
       "      <td>3</td>\n",
       "      <td>Presented to Client</td>\n",
       "      <td>3-Presented to Client</td>\n",
       "    </tr>\n",
       "  </tbody>\n",
       "</table>\n",
       "</div>"
      ],
      "text/plain": [
       "  Opportunity         Time  Stage               Action              Event Key\n",
       "0       OP001  43456.60550      1       Emailed Client       1-Emailed Client\n",
       "1       OP001  43466.19231      1       Emailed Client       1-Emailed Client\n",
       "2       OP001  43471.51592      2  Meeting with Client  2-Meeting with Client\n",
       "3       OP001  43479.39509      3  Presented to Client  3-Presented to Client\n",
       "4       OP001  43483.32009      3  Presented to Client  3-Presented to Client"
      ]
     },
     "execution_count": 6,
     "metadata": {},
     "output_type": "execute_result"
    }
   ],
   "source": [
    "df.head()"
   ]
  },
  {
   "cell_type": "markdown",
   "metadata": {},
   "source": [
    "# Prepare Data"
   ]
  },
  {
   "cell_type": "code",
   "execution_count": 7,
   "metadata": {},
   "outputs": [],
   "source": [
    "series_length = 5\n",
    "categories = len(events)\n",
    "time_steps = series_length -1 "
   ]
  },
  {
   "cell_type": "code",
   "execution_count": 8,
   "metadata": {},
   "outputs": [],
   "source": [
    "df.set_index('Opportunity', inplace=True)"
   ]
  },
  {
   "cell_type": "code",
   "execution_count": 9,
   "metadata": {},
   "outputs": [],
   "source": [
    "history = []\n",
    "for op in df.index:\n",
    "    for x in range(len(df['Stage'].loc[op].values)-series_length):\n",
    "        history.append(df['Stage'].loc[op].values[x:x+series_length])"
   ]
  },
  {
   "cell_type": "code",
   "execution_count": 10,
   "metadata": {},
   "outputs": [
    {
     "data": {
      "text/plain": [
       "[array([1, 1, 2, 3, 3], dtype=int64),\n",
       " array([1, 2, 3, 3, 3], dtype=int64),\n",
       " array([2, 3, 3, 3, 4], dtype=int64),\n",
       " array([3, 3, 3, 4, 5], dtype=int64),\n",
       " array([3, 3, 4, 5, 5], dtype=int64)]"
      ]
     },
     "execution_count": 10,
     "metadata": {},
     "output_type": "execute_result"
    }
   ],
   "source": [
    "history[:5]"
   ]
  },
  {
   "cell_type": "code",
   "execution_count": 11,
   "metadata": {},
   "outputs": [],
   "source": [
    "from tensorflow.keras.utils import to_categorical"
   ]
  },
  {
   "cell_type": "code",
   "execution_count": 12,
   "metadata": {},
   "outputs": [],
   "source": [
    "X= np.array([row[:time_steps] for row in history])"
   ]
  },
  {
   "cell_type": "code",
   "execution_count": 13,
   "metadata": {},
   "outputs": [],
   "source": [
    "X = to_categorical(X)"
   ]
  },
  {
   "cell_type": "code",
   "execution_count": 14,
   "metadata": {},
   "outputs": [],
   "source": [
    "y=np.array([row[time_steps] for row in history])"
   ]
  },
  {
   "cell_type": "code",
   "execution_count": 15,
   "metadata": {},
   "outputs": [],
   "source": [
    "y = to_categorical(y).reshape(-1,categories)"
   ]
  },
  {
   "cell_type": "code",
   "execution_count": 16,
   "metadata": {},
   "outputs": [
    {
     "data": {
      "text/plain": [
       "(16176, 4, 12)"
      ]
     },
     "execution_count": 16,
     "metadata": {},
     "output_type": "execute_result"
    }
   ],
   "source": [
    "X.shape"
   ]
  },
  {
   "cell_type": "code",
   "execution_count": 17,
   "metadata": {},
   "outputs": [
    {
     "data": {
      "text/plain": [
       "array([[[0., 1., 0., ..., 0., 0., 0.],\n",
       "        [0., 1., 0., ..., 0., 0., 0.],\n",
       "        [0., 0., 1., ..., 0., 0., 0.],\n",
       "        [0., 0., 0., ..., 0., 0., 0.]],\n",
       "\n",
       "       [[0., 1., 0., ..., 0., 0., 0.],\n",
       "        [0., 0., 1., ..., 0., 0., 0.],\n",
       "        [0., 0., 0., ..., 0., 0., 0.],\n",
       "        [0., 0., 0., ..., 0., 0., 0.]],\n",
       "\n",
       "       [[0., 0., 1., ..., 0., 0., 0.],\n",
       "        [0., 0., 0., ..., 0., 0., 0.],\n",
       "        [0., 0., 0., ..., 0., 0., 0.],\n",
       "        [0., 0., 0., ..., 0., 0., 0.]],\n",
       "\n",
       "       ...,\n",
       "\n",
       "       [[0., 0., 0., ..., 0., 0., 0.],\n",
       "        [0., 0., 0., ..., 0., 0., 0.],\n",
       "        [0., 0., 0., ..., 0., 0., 0.],\n",
       "        [0., 0., 0., ..., 0., 0., 0.]],\n",
       "\n",
       "       [[0., 0., 0., ..., 0., 0., 0.],\n",
       "        [0., 0., 0., ..., 0., 0., 0.],\n",
       "        [0., 0., 0., ..., 0., 0., 0.],\n",
       "        [0., 0., 0., ..., 0., 0., 0.]],\n",
       "\n",
       "       [[0., 0., 0., ..., 0., 0., 0.],\n",
       "        [0., 0., 0., ..., 0., 0., 0.],\n",
       "        [0., 0., 0., ..., 0., 0., 0.],\n",
       "        [0., 0., 0., ..., 1., 0., 0.]]], dtype=float32)"
      ]
     },
     "execution_count": 17,
     "metadata": {},
     "output_type": "execute_result"
    }
   ],
   "source": [
    "X"
   ]
  },
  {
   "cell_type": "code",
   "execution_count": 18,
   "metadata": {},
   "outputs": [
    {
     "data": {
      "text/plain": [
       "(16176, 12)"
      ]
     },
     "execution_count": 18,
     "metadata": {},
     "output_type": "execute_result"
    }
   ],
   "source": [
    "y.shape"
   ]
  },
  {
   "cell_type": "markdown",
   "metadata": {},
   "source": [
    "# Create Train and Test Set"
   ]
  },
  {
   "cell_type": "code",
   "execution_count": 19,
   "metadata": {},
   "outputs": [
    {
     "name": "stderr",
     "output_type": "stream",
     "text": [
      "C:\\Users\\chandv15\\AppData\\Local\\Continuum\\anaconda3\\lib\\site-packages\\sklearn\\utils\\validation.py:37: DeprecationWarning: distutils Version classes are deprecated. Use packaging.version instead.\n",
      "  LARGE_SPARSE_SUPPORTED = LooseVersion(scipy_version) >= '0.14.0'\n"
     ]
    }
   ],
   "source": [
    "from sklearn.model_selection import train_test_split"
   ]
  },
  {
   "cell_type": "code",
   "execution_count": 20,
   "metadata": {},
   "outputs": [],
   "source": [
    "X_train, X_test, y_train, y_test = train_test_split(X,y,test_size=0.3)"
   ]
  },
  {
   "cell_type": "code",
   "execution_count": 21,
   "metadata": {},
   "outputs": [
    {
     "name": "stdout",
     "output_type": "stream",
     "text": [
      "(11323, 4, 12) (4853, 4, 12) (11323, 12) (4853, 12)\n"
     ]
    }
   ],
   "source": [
    "print(X_train.shape, X_test.shape, y_train.shape, y_test.shape)"
   ]
  },
  {
   "cell_type": "markdown",
   "metadata": {},
   "source": [
    "# Modelling"
   ]
  },
  {
   "cell_type": "code",
   "execution_count": 22,
   "metadata": {},
   "outputs": [],
   "source": [
    "from tensorflow.keras.models import Sequential\n",
    "from tensorflow.keras.layers import LSTM, Dense"
   ]
  },
  {
   "cell_type": "code",
   "execution_count": 23,
   "metadata": {},
   "outputs": [],
   "source": [
    "model = Sequential()"
   ]
  },
  {
   "cell_type": "code",
   "execution_count": 24,
   "metadata": {},
   "outputs": [],
   "source": [
    "model.add(LSTM(10, activation='relu', return_sequences=True, input_shape=(time_steps,categories)))\n",
    "model.add(LSTM(10, activation='relu'))\n",
    "model.add(Dense(categories, activation='softmax'))\n",
    "model.compile('adam', loss='categorical_crossentropy')"
   ]
  },
  {
   "cell_type": "code",
   "execution_count": 25,
   "metadata": {},
   "outputs": [
    {
     "name": "stdout",
     "output_type": "stream",
     "text": [
      "Model: \"sequential\"\n",
      "_________________________________________________________________\n",
      " Layer (type)                Output Shape              Param #   \n",
      "=================================================================\n",
      " lstm (LSTM)                 (None, 4, 10)             920       \n",
      "                                                                 \n",
      " lstm_1 (LSTM)               (None, 10)                840       \n",
      "                                                                 \n",
      " dense (Dense)               (None, 12)                132       \n",
      "                                                                 \n",
      "=================================================================\n",
      "Total params: 1,892\n",
      "Trainable params: 1,892\n",
      "Non-trainable params: 0\n",
      "_________________________________________________________________\n"
     ]
    }
   ],
   "source": [
    "model.summary()"
   ]
  },
  {
   "cell_type": "code",
   "execution_count": 26,
   "metadata": {},
   "outputs": [
    {
     "name": "stdout",
     "output_type": "stream",
     "text": [
      "Epoch 1/10\n",
      "354/354 [==============================] - 5s 5ms/step - loss: 1.9216\n",
      "Epoch 2/10\n",
      "354/354 [==============================] - 2s 6ms/step - loss: 1.1703\n",
      "Epoch 3/10\n",
      "354/354 [==============================] - 2s 6ms/step - loss: 1.0561\n",
      "Epoch 4/10\n",
      "354/354 [==============================] - 2s 7ms/step - loss: 1.0075\n",
      "Epoch 5/10\n",
      "354/354 [==============================] - 2s 7ms/step - loss: 0.9856\n",
      "Epoch 6/10\n",
      "354/354 [==============================] - 2s 6ms/step - loss: 0.9725\n",
      "Epoch 7/10\n",
      "354/354 [==============================] - 2s 5ms/step - loss: 0.9655\n",
      "Epoch 8/10\n",
      "354/354 [==============================] - 2s 6ms/step - loss: 0.9595\n",
      "Epoch 9/10\n",
      "354/354 [==============================] - 2s 5ms/step - loss: 0.9534\n",
      "Epoch 10/10\n",
      "354/354 [==============================] - 2s 7ms/step - loss: 0.9498\n"
     ]
    },
    {
     "data": {
      "text/plain": [
       "<keras.callbacks.History at 0x1d7c4cbd5f8>"
      ]
     },
     "execution_count": 26,
     "metadata": {},
     "output_type": "execute_result"
    }
   ],
   "source": [
    "model.fit(X_train,y_train, epochs=10)"
   ]
  },
  {
   "cell_type": "markdown",
   "metadata": {},
   "source": [
    "# Generate Predictions"
   ]
  },
  {
   "cell_type": "code",
   "execution_count": 27,
   "metadata": {},
   "outputs": [
    {
     "name": "stdout",
     "output_type": "stream",
     "text": [
      "152/152 [==============================] - 1s 2ms/step\n"
     ]
    }
   ],
   "source": [
    "prediction = model.predict(X_test)"
   ]
  },
  {
   "cell_type": "code",
   "execution_count": 28,
   "metadata": {},
   "outputs": [
    {
     "data": {
      "text/plain": [
       "'9-Negotiation Meeting'"
      ]
     },
     "execution_count": 28,
     "metadata": {},
     "output_type": "execute_result"
    }
   ],
   "source": [
    "# Next event is\n",
    "events[np.argmax(prediction[1])]"
   ]
  },
  {
   "cell_type": "code",
   "execution_count": 29,
   "metadata": {},
   "outputs": [
    {
     "data": {
      "text/plain": [
       "9"
      ]
     },
     "execution_count": 29,
     "metadata": {},
     "output_type": "execute_result"
    }
   ],
   "source": [
    "np.argmax(y_test[1])"
   ]
  },
  {
   "cell_type": "code",
   "execution_count": 30,
   "metadata": {},
   "outputs": [
    {
     "data": {
      "text/plain": [
       "8"
      ]
     },
     "execution_count": 30,
     "metadata": {},
     "output_type": "execute_result"
    }
   ],
   "source": [
    "np.argmax(prediction[1])"
   ]
  },
  {
   "cell_type": "code",
   "execution_count": 31,
   "metadata": {},
   "outputs": [
    {
     "name": "stdout",
     "output_type": "stream",
     "text": [
      "INFO:tensorflow:Assets written to: tf_model\\assets\n"
     ]
    }
   ],
   "source": [
    "model.save('tf_model')"
   ]
  },
  {
   "cell_type": "markdown",
   "metadata": {},
   "source": [
    "# Evaluate Accuracy"
   ]
  },
  {
   "cell_type": "code",
   "execution_count": 32,
   "metadata": {},
   "outputs": [],
   "source": [
    "import tensorflow as tf\n",
    "from tensorflow.keras.metrics import top_k_categorical_accuracy"
   ]
  },
  {
   "cell_type": "code",
   "execution_count": 33,
   "metadata": {},
   "outputs": [
    {
     "name": "stdout",
     "output_type": "stream",
     "text": [
      "Correct event was in top prediction: 0.5427570574902122\n",
      "Correct event was in top two prediction: 0.8969709458067175\n"
     ]
    }
   ],
   "source": [
    "print('Correct event was in top prediction:', top_k_categorical_accuracy(y_test,prediction, k=1).numpy().sum()/top_k_categorical_accuracy(y_test,prediction, k=2).numpy().size)\n",
    "print('Correct event was in top two prediction:', top_k_categorical_accuracy(y_test,prediction, k=2).numpy().sum()/top_k_categorical_accuracy(y_test,prediction, k=3).numpy().size)"
   ]
  },
  {
   "cell_type": "code",
   "execution_count": 34,
   "metadata": {},
   "outputs": [
    {
     "data": {
      "text/plain": [
       "array([[0., 1., 0., 0., 0., 0., 0., 0., 0., 0., 0., 0.],\n",
       "       [0., 0., 1., 0., 0., 0., 0., 0., 0., 0., 0., 0.],\n",
       "       [0., 0., 0., 1., 0., 0., 0., 0., 0., 0., 0., 0.],\n",
       "       [0., 0., 0., 1., 0., 0., 0., 0., 0., 0., 0., 0.]], dtype=float32)"
      ]
     },
     "execution_count": 34,
     "metadata": {},
     "output_type": "execute_result"
    }
   ],
   "source": [
    "X[1]"
   ]
  },
  {
   "cell_type": "code",
   "execution_count": 69,
   "metadata": {},
   "outputs": [
    {
     "data": {
      "application/vnd.jupyter.widget-view+json": {
       "model_id": "9dd5cf254f3243f79ee63347450326fd",
       "version_major": 2,
       "version_minor": 0
      },
      "text/plain": [
       "Label(value='select first activity in sequence from the dropdown')"
      ]
     },
     "metadata": {},
     "output_type": "display_data"
    },
    {
     "data": {
      "application/vnd.jupyter.widget-view+json": {
       "model_id": "2f523c2c41dc4291bdfb9123f49f6491",
       "version_major": 2,
       "version_minor": 0
      },
      "text/plain": [
       "Dropdown(description='Activity_1:', options=('0-Dummy', '1-Emailed Client', '2-Meeting with Client', '3-Presen…"
      ]
     },
     "metadata": {},
     "output_type": "display_data"
    }
   ],
   "source": [
    "from ipywidgets import widgets\n",
    "lbl_act_1 = widgets.Label('select first activity in sequence from the dropdown')\n",
    "display(lbl_act_1)\n",
    "w_act_1 = widgets.Dropdown(\n",
    "    options=['0-Dummy',\n",
    " '1-Emailed Client',\n",
    " '2-Meeting with Client',\n",
    " '3-Presented to Client',\n",
    " '4-Prepared Custom Demonstration',\n",
    " '5-Prepared POC',\n",
    " '6-Provided Pre-Sales Support',\n",
    " '8-Prepared Commercials',\n",
    " '9-Negotiation Meeting',\n",
    " '7-Prepared RFP Responses',\n",
    " '10-Commercials Signed',\n",
    " '11-Post Sales Support'],\n",
    "    value='0-Dummy',\n",
    "    description='Activity_1:',\n",
    ")\n",
    "\n",
    "def on_change_act_1(change):\n",
    "    if change['type'] == 'change' and change['name'] == 'value':\n",
    "        global act_1_val\n",
    "        act_1_val = change['new']\n",
    "\n",
    "w_act_1.observe(on_change_act_1)\n",
    "\n",
    "display(w_act_1)"
   ]
  },
  {
   "cell_type": "code",
   "execution_count": 70,
   "metadata": {},
   "outputs": [
    {
     "data": {
      "application/vnd.jupyter.widget-view+json": {
       "model_id": "65e433ab1be64a6599c6a5a76574541f",
       "version_major": 2,
       "version_minor": 0
      },
      "text/plain": [
       "Label(value='select second activity in sequence from the dropdown')"
      ]
     },
     "metadata": {},
     "output_type": "display_data"
    },
    {
     "data": {
      "application/vnd.jupyter.widget-view+json": {
       "model_id": "95f6c47088984b1a832c98850ed0ec5e",
       "version_major": 2,
       "version_minor": 0
      },
      "text/plain": [
       "Dropdown(description='Activity_2:', options=('0-Dummy', '1-Emailed Client', '2-Meeting with Client', '3-Presen…"
      ]
     },
     "metadata": {},
     "output_type": "display_data"
    }
   ],
   "source": [
    "lbl_act_2 = widgets.Label('select second activity in sequence from the dropdown')\n",
    "display(lbl_act_2)\n",
    "w_act_2 = widgets.Dropdown(\n",
    "    options=['0-Dummy',\n",
    " '1-Emailed Client',\n",
    " '2-Meeting with Client',\n",
    " '3-Presented to Client',\n",
    " '4-Prepared Custom Demonstration',\n",
    " '5-Prepared POC',\n",
    " '6-Provided Pre-Sales Support',\n",
    " '8-Prepared Commercials',\n",
    " '9-Negotiation Meeting',\n",
    " '7-Prepared RFP Responses',\n",
    " '10-Commercials Signed',\n",
    " '11-Post Sales Support'],\n",
    "    value='0-Dummy',\n",
    "    description='Activity_2:',\n",
    ")\n",
    "\n",
    "def on_change_act_2(change):\n",
    "    if change['type'] == 'change' and change['name'] == 'value':\n",
    "        global act_2_val\n",
    "        act_2_val = change['new']\n",
    "\n",
    "w_act_2.observe(on_change_act_2)\n",
    "\n",
    "display(w_act_2)"
   ]
  },
  {
   "cell_type": "code",
   "execution_count": 71,
   "metadata": {},
   "outputs": [
    {
     "data": {
      "application/vnd.jupyter.widget-view+json": {
       "model_id": "0dd505f7ecaf4094981d8f7040c3295e",
       "version_major": 2,
       "version_minor": 0
      },
      "text/plain": [
       "Label(value='select third activity in sequence from the dropdown')"
      ]
     },
     "metadata": {},
     "output_type": "display_data"
    },
    {
     "data": {
      "application/vnd.jupyter.widget-view+json": {
       "model_id": "665d752200b94add89c8e22dcc8cb0fc",
       "version_major": 2,
       "version_minor": 0
      },
      "text/plain": [
       "Dropdown(description='Activity_3:', options=('0-Dummy', '1-Emailed Client', '2-Meeting with Client', '3-Presen…"
      ]
     },
     "metadata": {},
     "output_type": "display_data"
    }
   ],
   "source": [
    "lbl_act_3 = widgets.Label('select third activity in sequence from the dropdown')\n",
    "display(lbl_act_3)\n",
    "w_act_3 = widgets.Dropdown(\n",
    "    options=['0-Dummy',\n",
    " '1-Emailed Client',\n",
    " '2-Meeting with Client',\n",
    " '3-Presented to Client',\n",
    " '4-Prepared Custom Demonstration',\n",
    " '5-Prepared POC',\n",
    " '6-Provided Pre-Sales Support',\n",
    " '8-Prepared Commercials',\n",
    " '9-Negotiation Meeting',\n",
    " '7-Prepared RFP Responses',\n",
    " '10-Commercials Signed',\n",
    " '11-Post Sales Support'],\n",
    "    value='0-Dummy',\n",
    "    description='Activity_3:',\n",
    ")\n",
    "\n",
    "def on_change_act_3(change):\n",
    "    if change['type'] == 'change' and change['name'] == 'value':\n",
    "        global act_3_val\n",
    "        act_3_val = change['new']\n",
    "\n",
    "w_act_3.observe(on_change_act_3)\n",
    "\n",
    "display(w_act_3)"
   ]
  },
  {
   "cell_type": "code",
   "execution_count": 72,
   "metadata": {},
   "outputs": [
    {
     "data": {
      "application/vnd.jupyter.widget-view+json": {
       "model_id": "da8047e1a1f0437fb831aa79191030fb",
       "version_major": 2,
       "version_minor": 0
      },
      "text/plain": [
       "Label(value='select fourth activity in sequence from the dropdown')"
      ]
     },
     "metadata": {},
     "output_type": "display_data"
    },
    {
     "data": {
      "application/vnd.jupyter.widget-view+json": {
       "model_id": "08bb2f66889644be9bdc5201bcf28d0c",
       "version_major": 2,
       "version_minor": 0
      },
      "text/plain": [
       "Dropdown(description='Activity_4:', options=('0-Dummy', '1-Emailed Client', '2-Meeting with Client', '3-Presen…"
      ]
     },
     "metadata": {},
     "output_type": "display_data"
    }
   ],
   "source": [
    "lbl_act_4 = widgets.Label('select fourth activity in sequence from the dropdown')\n",
    "display(lbl_act_4)\n",
    "w_act_4 = widgets.Dropdown(\n",
    "    options=['0-Dummy',\n",
    " '1-Emailed Client',\n",
    " '2-Meeting with Client',\n",
    " '3-Presented to Client',\n",
    " '4-Prepared Custom Demonstration',\n",
    " '5-Prepared POC',\n",
    " '6-Provided Pre-Sales Support',\n",
    " '8-Prepared Commercials',\n",
    " '9-Negotiation Meeting',\n",
    " '7-Prepared RFP Responses',\n",
    " '10-Commercials Signed',\n",
    " '11-Post Sales Support'],\n",
    "    value='0-Dummy',\n",
    "    description='Activity_4:',\n",
    ")\n",
    "\n",
    "def on_change_act_4(change):\n",
    "    if change['type'] == 'change' and change['name'] == 'value':\n",
    "        global act_4_val\n",
    "        act_4_val = change['new']\n",
    "\n",
    "w_act_4.observe(on_change_act_4)\n",
    "\n",
    "display(w_act_4)"
   ]
  },
  {
   "cell_type": "code",
   "execution_count": 73,
   "metadata": {},
   "outputs": [],
   "source": [
    "act_lst = [int(act_1_val[0]), int(act_2_val[0]), int(act_3_val[0]), int(act_4_val[0])]"
   ]
  },
  {
   "cell_type": "code",
   "execution_count": 74,
   "metadata": {},
   "outputs": [
    {
     "data": {
      "text/plain": [
       "[1, 3, 4, 5]"
      ]
     },
     "execution_count": 74,
     "metadata": {},
     "output_type": "execute_result"
    }
   ],
   "source": [
    "act_lst"
   ]
  },
  {
   "cell_type": "code",
   "execution_count": 75,
   "metadata": {},
   "outputs": [],
   "source": [
    "act_arr = np.array([act_lst])"
   ]
  },
  {
   "cell_type": "code",
   "execution_count": 76,
   "metadata": {},
   "outputs": [
    {
     "data": {
      "text/plain": [
       "(1, 4)"
      ]
     },
     "execution_count": 76,
     "metadata": {},
     "output_type": "execute_result"
    }
   ],
   "source": [
    "act_arr.shape"
   ]
  },
  {
   "cell_type": "code",
   "execution_count": 77,
   "metadata": {},
   "outputs": [
    {
     "data": {
      "text/plain": [
       "array([[[0., 1., 0., 0., 0., 0., 0., 0., 0., 0., 0., 0.],\n",
       "        [0., 0., 0., 1., 0., 0., 0., 0., 0., 0., 0., 0.],\n",
       "        [0., 0., 0., 0., 1., 0., 0., 0., 0., 0., 0., 0.],\n",
       "        [0., 0., 0., 0., 0., 1., 0., 0., 0., 0., 0., 0.]]], dtype=float32)"
      ]
     },
     "execution_count": 77,
     "metadata": {},
     "output_type": "execute_result"
    }
   ],
   "source": [
    "to_categorical(act_arr, 12)"
   ]
  },
  {
   "cell_type": "code",
   "execution_count": 78,
   "metadata": {},
   "outputs": [
    {
     "data": {
      "text/plain": [
       "(1, 4, 12)"
      ]
     },
     "execution_count": 78,
     "metadata": {},
     "output_type": "execute_result"
    }
   ],
   "source": [
    "to_categorical(act_arr, 12).shape"
   ]
  },
  {
   "cell_type": "code",
   "execution_count": 79,
   "metadata": {},
   "outputs": [
    {
     "name": "stdout",
     "output_type": "stream",
     "text": [
      "1/1 [==============================] - 0s 23ms/step\n"
     ]
    },
    {
     "data": {
      "text/plain": [
       "array([[1.4357687e-09, 2.4832747e-10, 1.4915275e-05, 2.3579933e-06,\n",
       "        4.1683125e-03, 6.0076416e-01, 3.5540947e-01, 3.7901882e-02,\n",
       "        1.6294440e-03, 1.0727534e-04, 2.1235412e-06, 1.4101728e-09]],\n",
       "      dtype=float32)"
      ]
     },
     "execution_count": 79,
     "metadata": {},
     "output_type": "execute_result"
    }
   ],
   "source": [
    "model.predict(to_categorical(act_arr, 12))"
   ]
  },
  {
   "cell_type": "code",
   "execution_count": 80,
   "metadata": {},
   "outputs": [
    {
     "name": "stdout",
     "output_type": "stream",
     "text": [
      "1/1 [==============================] - 0s 26ms/step\n"
     ]
    },
    {
     "data": {
      "text/plain": [
       "'5-Prepared POC'"
      ]
     },
     "execution_count": 80,
     "metadata": {},
     "output_type": "execute_result"
    }
   ],
   "source": [
    "events[np.argmax(model.predict(to_categorical(act_arr, 12)))]"
   ]
  },
  {
   "cell_type": "code",
   "execution_count": null,
   "metadata": {},
   "outputs": [],
   "source": []
  }
 ],
 "metadata": {
  "kernelspec": {
   "display_name": "Python 3",
   "language": "python",
   "name": "python3"
  },
  "language_info": {
   "codemirror_mode": {
    "name": "ipython",
    "version": 3
   },
   "file_extension": ".py",
   "mimetype": "text/x-python",
   "name": "python",
   "nbconvert_exporter": "python",
   "pygments_lexer": "ipython3",
   "version": "3.7.1"
  }
 },
 "nbformat": 4,
 "nbformat_minor": 1
}
