{
  "cells": [
    {
      "cell_type": "markdown",
      "metadata": {
        "id": "wAh3Ev6eC5rX"
      },
      "source": [
        "# Bring in Data"
      ]
    },
    {
      "cell_type": "code",
      "execution_count": 1,
      "metadata": {
        "id": "PFSakVjnC5rZ"
      },
      "outputs": [],
      "source": [
        "import numpy as np\n",
        "import warnings\n",
        "warnings.filterwarnings(\"ignore\")"
      ]
    },
    {
      "cell_type": "code",
      "execution_count": 2,
      "metadata": {
        "id": "M9MPY8-EC5ra",
        "outputId": "7f017cd0-2456-4919-f475-4b366525f3f6",
        "colab": {
          "base_uri": "https://localhost:8080/",
          "height": 206
        }
      },
      "outputs": [
        {
          "output_type": "execute_result",
          "data": {
            "text/plain": [
              "  Opportunity         Time  Stage               Action\n",
              "0       OP001  43456.60550      1       Emailed Client\n",
              "1       OP001  43466.19231      1       Emailed Client\n",
              "2       OP001  43471.51592      2  Meeting with Client\n",
              "3       OP001  43479.39509      3  Presented to Client\n",
              "4       OP001  43483.32009      3  Presented to Client"
            ],
            "text/html": [
              "\n",
              "  <div id=\"df-c9e8818e-710d-41eb-9408-656551e277ea\">\n",
              "    <div class=\"colab-df-container\">\n",
              "      <div>\n",
              "<style scoped>\n",
              "    .dataframe tbody tr th:only-of-type {\n",
              "        vertical-align: middle;\n",
              "    }\n",
              "\n",
              "    .dataframe tbody tr th {\n",
              "        vertical-align: top;\n",
              "    }\n",
              "\n",
              "    .dataframe thead th {\n",
              "        text-align: right;\n",
              "    }\n",
              "</style>\n",
              "<table border=\"1\" class=\"dataframe\">\n",
              "  <thead>\n",
              "    <tr style=\"text-align: right;\">\n",
              "      <th></th>\n",
              "      <th>Opportunity</th>\n",
              "      <th>Time</th>\n",
              "      <th>Stage</th>\n",
              "      <th>Action</th>\n",
              "    </tr>\n",
              "  </thead>\n",
              "  <tbody>\n",
              "    <tr>\n",
              "      <th>0</th>\n",
              "      <td>OP001</td>\n",
              "      <td>43456.60550</td>\n",
              "      <td>1</td>\n",
              "      <td>Emailed Client</td>\n",
              "    </tr>\n",
              "    <tr>\n",
              "      <th>1</th>\n",
              "      <td>OP001</td>\n",
              "      <td>43466.19231</td>\n",
              "      <td>1</td>\n",
              "      <td>Emailed Client</td>\n",
              "    </tr>\n",
              "    <tr>\n",
              "      <th>2</th>\n",
              "      <td>OP001</td>\n",
              "      <td>43471.51592</td>\n",
              "      <td>2</td>\n",
              "      <td>Meeting with Client</td>\n",
              "    </tr>\n",
              "    <tr>\n",
              "      <th>3</th>\n",
              "      <td>OP001</td>\n",
              "      <td>43479.39509</td>\n",
              "      <td>3</td>\n",
              "      <td>Presented to Client</td>\n",
              "    </tr>\n",
              "    <tr>\n",
              "      <th>4</th>\n",
              "      <td>OP001</td>\n",
              "      <td>43483.32009</td>\n",
              "      <td>3</td>\n",
              "      <td>Presented to Client</td>\n",
              "    </tr>\n",
              "  </tbody>\n",
              "</table>\n",
              "</div>\n",
              "      <button class=\"colab-df-convert\" onclick=\"convertToInteractive('df-c9e8818e-710d-41eb-9408-656551e277ea')\"\n",
              "              title=\"Convert this dataframe to an interactive table.\"\n",
              "              style=\"display:none;\">\n",
              "        \n",
              "  <svg xmlns=\"http://www.w3.org/2000/svg\" height=\"24px\"viewBox=\"0 0 24 24\"\n",
              "       width=\"24px\">\n",
              "    <path d=\"M0 0h24v24H0V0z\" fill=\"none\"/>\n",
              "    <path d=\"M18.56 5.44l.94 2.06.94-2.06 2.06-.94-2.06-.94-.94-2.06-.94 2.06-2.06.94zm-11 1L8.5 8.5l.94-2.06 2.06-.94-2.06-.94L8.5 2.5l-.94 2.06-2.06.94zm10 10l.94 2.06.94-2.06 2.06-.94-2.06-.94-.94-2.06-.94 2.06-2.06.94z\"/><path d=\"M17.41 7.96l-1.37-1.37c-.4-.4-.92-.59-1.43-.59-.52 0-1.04.2-1.43.59L10.3 9.45l-7.72 7.72c-.78.78-.78 2.05 0 2.83L4 21.41c.39.39.9.59 1.41.59.51 0 1.02-.2 1.41-.59l7.78-7.78 2.81-2.81c.8-.78.8-2.07 0-2.86zM5.41 20L4 18.59l7.72-7.72 1.47 1.35L5.41 20z\"/>\n",
              "  </svg>\n",
              "      </button>\n",
              "      \n",
              "  <style>\n",
              "    .colab-df-container {\n",
              "      display:flex;\n",
              "      flex-wrap:wrap;\n",
              "      gap: 12px;\n",
              "    }\n",
              "\n",
              "    .colab-df-convert {\n",
              "      background-color: #E8F0FE;\n",
              "      border: none;\n",
              "      border-radius: 50%;\n",
              "      cursor: pointer;\n",
              "      display: none;\n",
              "      fill: #1967D2;\n",
              "      height: 32px;\n",
              "      padding: 0 0 0 0;\n",
              "      width: 32px;\n",
              "    }\n",
              "\n",
              "    .colab-df-convert:hover {\n",
              "      background-color: #E2EBFA;\n",
              "      box-shadow: 0px 1px 2px rgba(60, 64, 67, 0.3), 0px 1px 3px 1px rgba(60, 64, 67, 0.15);\n",
              "      fill: #174EA6;\n",
              "    }\n",
              "\n",
              "    [theme=dark] .colab-df-convert {\n",
              "      background-color: #3B4455;\n",
              "      fill: #D2E3FC;\n",
              "    }\n",
              "\n",
              "    [theme=dark] .colab-df-convert:hover {\n",
              "      background-color: #434B5C;\n",
              "      box-shadow: 0px 1px 3px 1px rgba(0, 0, 0, 0.15);\n",
              "      filter: drop-shadow(0px 1px 2px rgba(0, 0, 0, 0.3));\n",
              "      fill: #FFFFFF;\n",
              "    }\n",
              "  </style>\n",
              "\n",
              "      <script>\n",
              "        const buttonEl =\n",
              "          document.querySelector('#df-c9e8818e-710d-41eb-9408-656551e277ea button.colab-df-convert');\n",
              "        buttonEl.style.display =\n",
              "          google.colab.kernel.accessAllowed ? 'block' : 'none';\n",
              "\n",
              "        async function convertToInteractive(key) {\n",
              "          const element = document.querySelector('#df-c9e8818e-710d-41eb-9408-656551e277ea');\n",
              "          const dataTable =\n",
              "            await google.colab.kernel.invokeFunction('convertToInteractive',\n",
              "                                                     [key], {});\n",
              "          if (!dataTable) return;\n",
              "\n",
              "          const docLinkHtml = 'Like what you see? Visit the ' +\n",
              "            '<a target=\"_blank\" href=https://colab.research.google.com/notebooks/data_table.ipynb>data table notebook</a>'\n",
              "            + ' to learn more about interactive tables.';\n",
              "          element.innerHTML = '';\n",
              "          dataTable['output_type'] = 'display_data';\n",
              "          await google.colab.output.renderOutput(dataTable, element);\n",
              "          const docLink = document.createElement('div');\n",
              "          docLink.innerHTML = docLinkHtml;\n",
              "          element.appendChild(docLink);\n",
              "        }\n",
              "      </script>\n",
              "    </div>\n",
              "  </div>\n",
              "  "
            ]
          },
          "metadata": {},
          "execution_count": 2
        }
      ],
      "source": [
        "import types\n",
        "import pandas as pd\n",
        "df = pd.read_csv(\"Event.csv\")\n",
        "df.head()"
      ]
    },
    {
      "cell_type": "code",
      "execution_count": 3,
      "metadata": {
        "id": "7L5WLimSC5rb"
      },
      "outputs": [],
      "source": [
        "df['Event Key'] = df['Stage'].astype(str) +'-'+ df['Action']"
      ]
    },
    {
      "cell_type": "code",
      "execution_count": 4,
      "metadata": {
        "id": "rPMM3swsC5rb"
      },
      "outputs": [],
      "source": [
        "events = list(df['Event Key'].unique())\n",
        "ev = events.pop(8)\n",
        "events.append(ev)\n",
        "events = ['0-Dummy'] + events"
      ]
    },
    {
      "cell_type": "code",
      "execution_count": 5,
      "metadata": {
        "id": "F3bJoayvC5rb",
        "outputId": "e95ba325-7a6e-424c-a49e-99a0ed638364",
        "colab": {
          "base_uri": "https://localhost:8080/"
        }
      },
      "outputs": [
        {
          "output_type": "execute_result",
          "data": {
            "text/plain": [
              "['0-Dummy',\n",
              " '1-Emailed Client',\n",
              " '2-Meeting with Client',\n",
              " '3-Presented to Client',\n",
              " '4-Prepared Custom Demonstration',\n",
              " '5-Prepared POC',\n",
              " '6-Provided Pre-Sales Support',\n",
              " '8-Prepared Commercials',\n",
              " '9-Negotiation Meeting',\n",
              " '7-Prepared RFP Responses',\n",
              " '10-Commercials Signed',\n",
              " '11-Post Sales Support']"
            ]
          },
          "metadata": {},
          "execution_count": 5
        }
      ],
      "source": [
        "events"
      ]
    },
    {
      "cell_type": "code",
      "execution_count": 6,
      "metadata": {
        "id": "FhhFqHbHC5rc",
        "outputId": "f6645e22-c98b-4bed-e7f6-50ea8c0e99d6",
        "colab": {
          "base_uri": "https://localhost:8080/",
          "height": 206
        }
      },
      "outputs": [
        {
          "output_type": "execute_result",
          "data": {
            "text/plain": [
              "  Opportunity         Time  Stage               Action              Event Key\n",
              "0       OP001  43456.60550      1       Emailed Client       1-Emailed Client\n",
              "1       OP001  43466.19231      1       Emailed Client       1-Emailed Client\n",
              "2       OP001  43471.51592      2  Meeting with Client  2-Meeting with Client\n",
              "3       OP001  43479.39509      3  Presented to Client  3-Presented to Client\n",
              "4       OP001  43483.32009      3  Presented to Client  3-Presented to Client"
            ],
            "text/html": [
              "\n",
              "  <div id=\"df-d48450fb-3e66-41ce-ad75-89dbb32e1348\">\n",
              "    <div class=\"colab-df-container\">\n",
              "      <div>\n",
              "<style scoped>\n",
              "    .dataframe tbody tr th:only-of-type {\n",
              "        vertical-align: middle;\n",
              "    }\n",
              "\n",
              "    .dataframe tbody tr th {\n",
              "        vertical-align: top;\n",
              "    }\n",
              "\n",
              "    .dataframe thead th {\n",
              "        text-align: right;\n",
              "    }\n",
              "</style>\n",
              "<table border=\"1\" class=\"dataframe\">\n",
              "  <thead>\n",
              "    <tr style=\"text-align: right;\">\n",
              "      <th></th>\n",
              "      <th>Opportunity</th>\n",
              "      <th>Time</th>\n",
              "      <th>Stage</th>\n",
              "      <th>Action</th>\n",
              "      <th>Event Key</th>\n",
              "    </tr>\n",
              "  </thead>\n",
              "  <tbody>\n",
              "    <tr>\n",
              "      <th>0</th>\n",
              "      <td>OP001</td>\n",
              "      <td>43456.60550</td>\n",
              "      <td>1</td>\n",
              "      <td>Emailed Client</td>\n",
              "      <td>1-Emailed Client</td>\n",
              "    </tr>\n",
              "    <tr>\n",
              "      <th>1</th>\n",
              "      <td>OP001</td>\n",
              "      <td>43466.19231</td>\n",
              "      <td>1</td>\n",
              "      <td>Emailed Client</td>\n",
              "      <td>1-Emailed Client</td>\n",
              "    </tr>\n",
              "    <tr>\n",
              "      <th>2</th>\n",
              "      <td>OP001</td>\n",
              "      <td>43471.51592</td>\n",
              "      <td>2</td>\n",
              "      <td>Meeting with Client</td>\n",
              "      <td>2-Meeting with Client</td>\n",
              "    </tr>\n",
              "    <tr>\n",
              "      <th>3</th>\n",
              "      <td>OP001</td>\n",
              "      <td>43479.39509</td>\n",
              "      <td>3</td>\n",
              "      <td>Presented to Client</td>\n",
              "      <td>3-Presented to Client</td>\n",
              "    </tr>\n",
              "    <tr>\n",
              "      <th>4</th>\n",
              "      <td>OP001</td>\n",
              "      <td>43483.32009</td>\n",
              "      <td>3</td>\n",
              "      <td>Presented to Client</td>\n",
              "      <td>3-Presented to Client</td>\n",
              "    </tr>\n",
              "  </tbody>\n",
              "</table>\n",
              "</div>\n",
              "      <button class=\"colab-df-convert\" onclick=\"convertToInteractive('df-d48450fb-3e66-41ce-ad75-89dbb32e1348')\"\n",
              "              title=\"Convert this dataframe to an interactive table.\"\n",
              "              style=\"display:none;\">\n",
              "        \n",
              "  <svg xmlns=\"http://www.w3.org/2000/svg\" height=\"24px\"viewBox=\"0 0 24 24\"\n",
              "       width=\"24px\">\n",
              "    <path d=\"M0 0h24v24H0V0z\" fill=\"none\"/>\n",
              "    <path d=\"M18.56 5.44l.94 2.06.94-2.06 2.06-.94-2.06-.94-.94-2.06-.94 2.06-2.06.94zm-11 1L8.5 8.5l.94-2.06 2.06-.94-2.06-.94L8.5 2.5l-.94 2.06-2.06.94zm10 10l.94 2.06.94-2.06 2.06-.94-2.06-.94-.94-2.06-.94 2.06-2.06.94z\"/><path d=\"M17.41 7.96l-1.37-1.37c-.4-.4-.92-.59-1.43-.59-.52 0-1.04.2-1.43.59L10.3 9.45l-7.72 7.72c-.78.78-.78 2.05 0 2.83L4 21.41c.39.39.9.59 1.41.59.51 0 1.02-.2 1.41-.59l7.78-7.78 2.81-2.81c.8-.78.8-2.07 0-2.86zM5.41 20L4 18.59l7.72-7.72 1.47 1.35L5.41 20z\"/>\n",
              "  </svg>\n",
              "      </button>\n",
              "      \n",
              "  <style>\n",
              "    .colab-df-container {\n",
              "      display:flex;\n",
              "      flex-wrap:wrap;\n",
              "      gap: 12px;\n",
              "    }\n",
              "\n",
              "    .colab-df-convert {\n",
              "      background-color: #E8F0FE;\n",
              "      border: none;\n",
              "      border-radius: 50%;\n",
              "      cursor: pointer;\n",
              "      display: none;\n",
              "      fill: #1967D2;\n",
              "      height: 32px;\n",
              "      padding: 0 0 0 0;\n",
              "      width: 32px;\n",
              "    }\n",
              "\n",
              "    .colab-df-convert:hover {\n",
              "      background-color: #E2EBFA;\n",
              "      box-shadow: 0px 1px 2px rgba(60, 64, 67, 0.3), 0px 1px 3px 1px rgba(60, 64, 67, 0.15);\n",
              "      fill: #174EA6;\n",
              "    }\n",
              "\n",
              "    [theme=dark] .colab-df-convert {\n",
              "      background-color: #3B4455;\n",
              "      fill: #D2E3FC;\n",
              "    }\n",
              "\n",
              "    [theme=dark] .colab-df-convert:hover {\n",
              "      background-color: #434B5C;\n",
              "      box-shadow: 0px 1px 3px 1px rgba(0, 0, 0, 0.15);\n",
              "      filter: drop-shadow(0px 1px 2px rgba(0, 0, 0, 0.3));\n",
              "      fill: #FFFFFF;\n",
              "    }\n",
              "  </style>\n",
              "\n",
              "      <script>\n",
              "        const buttonEl =\n",
              "          document.querySelector('#df-d48450fb-3e66-41ce-ad75-89dbb32e1348 button.colab-df-convert');\n",
              "        buttonEl.style.display =\n",
              "          google.colab.kernel.accessAllowed ? 'block' : 'none';\n",
              "\n",
              "        async function convertToInteractive(key) {\n",
              "          const element = document.querySelector('#df-d48450fb-3e66-41ce-ad75-89dbb32e1348');\n",
              "          const dataTable =\n",
              "            await google.colab.kernel.invokeFunction('convertToInteractive',\n",
              "                                                     [key], {});\n",
              "          if (!dataTable) return;\n",
              "\n",
              "          const docLinkHtml = 'Like what you see? Visit the ' +\n",
              "            '<a target=\"_blank\" href=https://colab.research.google.com/notebooks/data_table.ipynb>data table notebook</a>'\n",
              "            + ' to learn more about interactive tables.';\n",
              "          element.innerHTML = '';\n",
              "          dataTable['output_type'] = 'display_data';\n",
              "          await google.colab.output.renderOutput(dataTable, element);\n",
              "          const docLink = document.createElement('div');\n",
              "          docLink.innerHTML = docLinkHtml;\n",
              "          element.appendChild(docLink);\n",
              "        }\n",
              "      </script>\n",
              "    </div>\n",
              "  </div>\n",
              "  "
            ]
          },
          "metadata": {},
          "execution_count": 6
        }
      ],
      "source": [
        "df.head()"
      ]
    },
    {
      "cell_type": "markdown",
      "metadata": {
        "id": "muBGoilBC5rc"
      },
      "source": [
        "# Prepare Data"
      ]
    },
    {
      "cell_type": "code",
      "execution_count": 7,
      "metadata": {
        "id": "6Fdp7KkwC5rc"
      },
      "outputs": [],
      "source": [
        "series_length = 5\n",
        "categories = len(events)\n",
        "time_steps = series_length -1 "
      ]
    },
    {
      "cell_type": "code",
      "execution_count": 8,
      "metadata": {
        "id": "1I53kVUDC5rc"
      },
      "outputs": [],
      "source": [
        "df.set_index('Opportunity', inplace=True)"
      ]
    },
    {
      "cell_type": "code",
      "execution_count": 9,
      "metadata": {
        "id": "JjpCNCulC5rc"
      },
      "outputs": [],
      "source": [
        "history = []\n",
        "for op in df.index:\n",
        "    for x in range(len(df['Stage'].loc[op].values)-series_length):\n",
        "        history.append(df['Stage'].loc[op].values[x:x+series_length])"
      ]
    },
    {
      "cell_type": "code",
      "execution_count": 10,
      "metadata": {
        "id": "OQRToYYzC5rd",
        "outputId": "f46aeacb-a9a7-435f-d80d-74974aef3fac",
        "colab": {
          "base_uri": "https://localhost:8080/"
        }
      },
      "outputs": [
        {
          "output_type": "execute_result",
          "data": {
            "text/plain": [
              "[array([1, 1, 2, 3, 3]),\n",
              " array([1, 2, 3, 3, 3]),\n",
              " array([2, 3, 3, 3, 4]),\n",
              " array([3, 3, 3, 4, 5]),\n",
              " array([3, 3, 4, 5, 5])]"
            ]
          },
          "metadata": {},
          "execution_count": 10
        }
      ],
      "source": [
        "history[:5]"
      ]
    },
    {
      "cell_type": "code",
      "execution_count": 11,
      "metadata": {
        "id": "rsRZCO7lC5rd"
      },
      "outputs": [],
      "source": [
        "from tensorflow.keras.utils import to_categorical"
      ]
    },
    {
      "cell_type": "code",
      "execution_count": 12,
      "metadata": {
        "id": "kK4Lc5ZEC5rd"
      },
      "outputs": [],
      "source": [
        "X= np.array([row[:time_steps] for row in history])"
      ]
    },
    {
      "cell_type": "code",
      "execution_count": 13,
      "metadata": {
        "id": "JLbzg7wEC5rd"
      },
      "outputs": [],
      "source": [
        "X = to_categorical(X)"
      ]
    },
    {
      "cell_type": "code",
      "execution_count": 14,
      "metadata": {
        "id": "bhBGpn9BC5rd"
      },
      "outputs": [],
      "source": [
        "y=np.array([row[time_steps] for row in history])"
      ]
    },
    {
      "cell_type": "code",
      "execution_count": 15,
      "metadata": {
        "id": "CnMXJQaxC5rd"
      },
      "outputs": [],
      "source": [
        "y = to_categorical(y).reshape(-1,categories)"
      ]
    },
    {
      "cell_type": "code",
      "execution_count": 16,
      "metadata": {
        "id": "6KES_OyFC5re",
        "outputId": "9b4f2f63-94f6-407e-ecaa-b34d07037271",
        "colab": {
          "base_uri": "https://localhost:8080/"
        }
      },
      "outputs": [
        {
          "output_type": "execute_result",
          "data": {
            "text/plain": [
              "(16176, 4, 12)"
            ]
          },
          "metadata": {},
          "execution_count": 16
        }
      ],
      "source": [
        "X.shape"
      ]
    },
    {
      "cell_type": "code",
      "execution_count": 17,
      "metadata": {
        "id": "JJAceoktC5re",
        "outputId": "54d00ad0-aabd-4ce8-e340-6f367ef17eca",
        "colab": {
          "base_uri": "https://localhost:8080/"
        }
      },
      "outputs": [
        {
          "output_type": "execute_result",
          "data": {
            "text/plain": [
              "array([[[0., 1., 0., ..., 0., 0., 0.],\n",
              "        [0., 1., 0., ..., 0., 0., 0.],\n",
              "        [0., 0., 1., ..., 0., 0., 0.],\n",
              "        [0., 0., 0., ..., 0., 0., 0.]],\n",
              "\n",
              "       [[0., 1., 0., ..., 0., 0., 0.],\n",
              "        [0., 0., 1., ..., 0., 0., 0.],\n",
              "        [0., 0., 0., ..., 0., 0., 0.],\n",
              "        [0., 0., 0., ..., 0., 0., 0.]],\n",
              "\n",
              "       [[0., 0., 1., ..., 0., 0., 0.],\n",
              "        [0., 0., 0., ..., 0., 0., 0.],\n",
              "        [0., 0., 0., ..., 0., 0., 0.],\n",
              "        [0., 0., 0., ..., 0., 0., 0.]],\n",
              "\n",
              "       ...,\n",
              "\n",
              "       [[0., 0., 0., ..., 0., 0., 0.],\n",
              "        [0., 0., 0., ..., 0., 0., 0.],\n",
              "        [0., 0., 0., ..., 0., 0., 0.],\n",
              "        [0., 0., 0., ..., 0., 0., 0.]],\n",
              "\n",
              "       [[0., 0., 0., ..., 0., 0., 0.],\n",
              "        [0., 0., 0., ..., 0., 0., 0.],\n",
              "        [0., 0., 0., ..., 0., 0., 0.],\n",
              "        [0., 0., 0., ..., 0., 0., 0.]],\n",
              "\n",
              "       [[0., 0., 0., ..., 0., 0., 0.],\n",
              "        [0., 0., 0., ..., 0., 0., 0.],\n",
              "        [0., 0., 0., ..., 0., 0., 0.],\n",
              "        [0., 0., 0., ..., 1., 0., 0.]]], dtype=float32)"
            ]
          },
          "metadata": {},
          "execution_count": 17
        }
      ],
      "source": [
        "X"
      ]
    },
    {
      "cell_type": "code",
      "execution_count": 18,
      "metadata": {
        "id": "q2fpWq5bC5re",
        "outputId": "4e9e51de-df0c-4dba-e29f-34ee6e4530c8",
        "colab": {
          "base_uri": "https://localhost:8080/"
        }
      },
      "outputs": [
        {
          "output_type": "execute_result",
          "data": {
            "text/plain": [
              "(16176, 12)"
            ]
          },
          "metadata": {},
          "execution_count": 18
        }
      ],
      "source": [
        "y.shape"
      ]
    },
    {
      "cell_type": "markdown",
      "metadata": {
        "id": "ppmscxcgC5re"
      },
      "source": [
        "# Create Train and Test Set"
      ]
    },
    {
      "cell_type": "code",
      "execution_count": 19,
      "metadata": {
        "id": "FAwPYLNKC5rf"
      },
      "outputs": [],
      "source": [
        "from sklearn.model_selection import train_test_split"
      ]
    },
    {
      "cell_type": "code",
      "execution_count": 20,
      "metadata": {
        "id": "ZI0KNEjBC5rf"
      },
      "outputs": [],
      "source": [
        "X_train, X_test, y_train, y_test = train_test_split(X,y,test_size=0.3)"
      ]
    },
    {
      "cell_type": "code",
      "execution_count": 21,
      "metadata": {
        "id": "cQHVXlZwC5rj",
        "outputId": "b9c509b7-0c9c-4477-9e81-31741e7cd458",
        "colab": {
          "base_uri": "https://localhost:8080/"
        }
      },
      "outputs": [
        {
          "output_type": "stream",
          "name": "stdout",
          "text": [
            "(11323, 4, 12) (4853, 4, 12) (11323, 12) (4853, 12)\n"
          ]
        }
      ],
      "source": [
        "print(X_train.shape, X_test.shape, y_train.shape, y_test.shape)"
      ]
    },
    {
      "cell_type": "markdown",
      "metadata": {
        "id": "fmpry9nWC5rj"
      },
      "source": [
        "# Modelling"
      ]
    },
    {
      "cell_type": "code",
      "execution_count": 22,
      "metadata": {
        "id": "ySGsCBQ6C5rj"
      },
      "outputs": [],
      "source": [
        "from tensorflow.keras.models import Sequential\n",
        "from tensorflow.keras.layers import LSTM, Dense"
      ]
    },
    {
      "cell_type": "code",
      "execution_count": 23,
      "metadata": {
        "id": "Gdga5CdEC5rk"
      },
      "outputs": [],
      "source": [
        "model = Sequential()"
      ]
    },
    {
      "cell_type": "code",
      "execution_count": 24,
      "metadata": {
        "id": "nfhtT47vC5rk"
      },
      "outputs": [],
      "source": [
        "model.add(LSTM(10, activation='relu', return_sequences=True, input_shape=(time_steps,categories)))\n",
        "model.add(LSTM(10, activation='relu'))\n",
        "model.add(Dense(categories, activation='softmax'))\n",
        "model.compile('adam', loss='categorical_crossentropy')"
      ]
    },
    {
      "cell_type": "code",
      "execution_count": 25,
      "metadata": {
        "id": "YoOAFpoXC5rk",
        "outputId": "e605a738-ab00-4589-8812-15edc3acf6c3",
        "colab": {
          "base_uri": "https://localhost:8080/"
        }
      },
      "outputs": [
        {
          "output_type": "stream",
          "name": "stdout",
          "text": [
            "Model: \"sequential\"\n",
            "_________________________________________________________________\n",
            " Layer (type)                Output Shape              Param #   \n",
            "=================================================================\n",
            " lstm (LSTM)                 (None, 4, 10)             920       \n",
            "                                                                 \n",
            " lstm_1 (LSTM)               (None, 10)                840       \n",
            "                                                                 \n",
            " dense (Dense)               (None, 12)                132       \n",
            "                                                                 \n",
            "=================================================================\n",
            "Total params: 1,892\n",
            "Trainable params: 1,892\n",
            "Non-trainable params: 0\n",
            "_________________________________________________________________\n"
          ]
        }
      ],
      "source": [
        "model.summary()"
      ]
    },
    {
      "cell_type": "code",
      "execution_count": 26,
      "metadata": {
        "id": "BRXSrMfzC5rl",
        "outputId": "f68f2b7f-934b-43d7-da22-f3785cbff3cc",
        "colab": {
          "base_uri": "https://localhost:8080/"
        }
      },
      "outputs": [
        {
          "output_type": "stream",
          "name": "stdout",
          "text": [
            "Epoch 1/10\n",
            "354/354 [==============================] - 5s 5ms/step - loss: 1.8159\n",
            "Epoch 2/10\n",
            "354/354 [==============================] - 2s 5ms/step - loss: 1.1533\n",
            "Epoch 3/10\n",
            "354/354 [==============================] - 2s 5ms/step - loss: 1.0625\n",
            "Epoch 4/10\n",
            "354/354 [==============================] - 3s 8ms/step - loss: 1.0160\n",
            "Epoch 5/10\n",
            "354/354 [==============================] - 2s 6ms/step - loss: 0.9926\n",
            "Epoch 6/10\n",
            "354/354 [==============================] - 2s 5ms/step - loss: 0.9743\n",
            "Epoch 7/10\n",
            "354/354 [==============================] - 2s 7ms/step - loss: 0.9586\n",
            "Epoch 8/10\n",
            "354/354 [==============================] - 2s 6ms/step - loss: 0.9512\n",
            "Epoch 9/10\n",
            "354/354 [==============================] - 2s 6ms/step - loss: 0.9470\n",
            "Epoch 10/10\n",
            "354/354 [==============================] - 3s 8ms/step - loss: 0.9407\n"
          ]
        },
        {
          "output_type": "execute_result",
          "data": {
            "text/plain": [
              "<keras.callbacks.History at 0x7fbf46520b20>"
            ]
          },
          "metadata": {},
          "execution_count": 26
        }
      ],
      "source": [
        "model.fit(X_train,y_train, epochs=10)"
      ]
    },
    {
      "cell_type": "markdown",
      "metadata": {
        "id": "KxJIiqUEC5rl"
      },
      "source": [
        "# Generate Predictions"
      ]
    },
    {
      "cell_type": "code",
      "execution_count": 27,
      "metadata": {
        "id": "Eo4YYPbbC5rl",
        "outputId": "d84e7a1a-993e-4d1a-8ceb-d5521927b33e",
        "colab": {
          "base_uri": "https://localhost:8080/"
        }
      },
      "outputs": [
        {
          "output_type": "stream",
          "name": "stdout",
          "text": [
            "152/152 [==============================] - 1s 2ms/step\n"
          ]
        }
      ],
      "source": [
        "prediction = model.predict(X_test)"
      ]
    },
    {
      "cell_type": "code",
      "execution_count": 28,
      "metadata": {
        "id": "Z8-ZBVMuC5rl",
        "outputId": "c7297204-bb32-4800-d5e5-16f0aa433dc6",
        "colab": {
          "base_uri": "https://localhost:8080/",
          "height": 36
        }
      },
      "outputs": [
        {
          "output_type": "execute_result",
          "data": {
            "text/plain": [
              "'5-Prepared POC'"
            ],
            "application/vnd.google.colaboratory.intrinsic+json": {
              "type": "string"
            }
          },
          "metadata": {},
          "execution_count": 28
        }
      ],
      "source": [
        "# Next event is\n",
        "events[np.argmax(prediction[1])]"
      ]
    },
    {
      "cell_type": "code",
      "execution_count": 29,
      "metadata": {
        "id": "tlvGyKcvC5rl",
        "outputId": "f726a329-0276-4b33-aa1a-250026537a43",
        "colab": {
          "base_uri": "https://localhost:8080/"
        }
      },
      "outputs": [
        {
          "output_type": "execute_result",
          "data": {
            "text/plain": [
              "6"
            ]
          },
          "metadata": {},
          "execution_count": 29
        }
      ],
      "source": [
        "np.argmax(y_test[1])"
      ]
    },
    {
      "cell_type": "code",
      "execution_count": 30,
      "metadata": {
        "id": "O4WeTwIkC5rm",
        "outputId": "96cce695-806d-4302-ac66-bba06ea46161",
        "colab": {
          "base_uri": "https://localhost:8080/"
        }
      },
      "outputs": [
        {
          "output_type": "execute_result",
          "data": {
            "text/plain": [
              "5"
            ]
          },
          "metadata": {},
          "execution_count": 30
        }
      ],
      "source": [
        "np.argmax(prediction[1])"
      ]
    },
    {
      "cell_type": "markdown",
      "metadata": {
        "id": "gMVmU4ypC5rm"
      },
      "source": [
        "# Evaluate Accuracy"
      ]
    },
    {
      "cell_type": "code",
      "execution_count": 31,
      "metadata": {
        "id": "X5HDM2_3C5rm"
      },
      "outputs": [],
      "source": [
        "import tensorflow as tf\n",
        "from tensorflow.keras.metrics import top_k_categorical_accuracy"
      ]
    },
    {
      "cell_type": "code",
      "execution_count": 32,
      "metadata": {
        "id": "N-B-cgzmC5rm",
        "outputId": "4d41d3ab-d1de-4c54-d8e1-06e21fa1ba26",
        "colab": {
          "base_uri": "https://localhost:8080/"
        }
      },
      "outputs": [
        {
          "output_type": "stream",
          "name": "stdout",
          "text": [
            "Correct event was in top prediction: 0.5751081805069029\n",
            "Correct event was in top two prediction: 0.8932618998557593\n"
          ]
        }
      ],
      "source": [
        "print('Correct event was in top prediction:', top_k_categorical_accuracy(y_test,prediction, k=1).numpy().sum()/top_k_categorical_accuracy(y_test,prediction, k=2).numpy().size)\n",
        "print('Correct event was in top two prediction:', top_k_categorical_accuracy(y_test,prediction, k=2).numpy().sum()/top_k_categorical_accuracy(y_test,prediction, k=3).numpy().size)"
      ]
    },
    {
      "cell_type": "code",
      "execution_count": 33,
      "metadata": {
        "id": "2eyfc3mbC5rn",
        "outputId": "03c58c34-efb4-46dd-b914-60a39dfa6dd2",
        "colab": {
          "base_uri": "https://localhost:8080/",
          "height": 79,
          "referenced_widgets": [
            "c13e70b80387494fb5efa16452c480ae",
            "185450e42ad049dda9f1244630c7421e",
            "564fed3544454f94af1a46b24a714cfc",
            "838864c45a95452a97f84071addec6df",
            "db27533525944733bb0a47c3006b07df",
            "952075d435084223922b4f5fa0e1cd10"
          ]
        }
      },
      "outputs": [
        {
          "output_type": "display_data",
          "data": {
            "text/plain": [
              "Label(value='select first activity in sequence from the dropdown')"
            ],
            "application/vnd.jupyter.widget-view+json": {
              "version_major": 2,
              "version_minor": 0,
              "model_id": "c13e70b80387494fb5efa16452c480ae"
            }
          },
          "metadata": {}
        },
        {
          "output_type": "display_data",
          "data": {
            "text/plain": [
              "Dropdown(description='Activity_1:', options=('0-Dummy', '1-Emailed Client', '2-Meeting with Client', '3-Presen…"
            ],
            "application/vnd.jupyter.widget-view+json": {
              "version_major": 2,
              "version_minor": 0,
              "model_id": "838864c45a95452a97f84071addec6df"
            }
          },
          "metadata": {}
        }
      ],
      "source": [
        "from ipywidgets import widgets\n",
        "lbl_act_1 = widgets.Label('select first activity in sequence from the dropdown')\n",
        "display(lbl_act_1)\n",
        "w_act_1 = widgets.Dropdown(\n",
        "    options=['0-Dummy',\n",
        " '1-Emailed Client',\n",
        " '2-Meeting with Client',\n",
        " '3-Presented to Client',\n",
        " '4-Prepared Custom Demonstration',\n",
        " '5-Prepared POC',\n",
        " '6-Provided Pre-Sales Support',\n",
        " '8-Prepared Commercials',\n",
        " '9-Negotiation Meeting',\n",
        " '7-Prepared RFP Responses',\n",
        " '10-Commercials Signed',\n",
        " '11-Post Sales Support'],\n",
        "    value='0-Dummy',\n",
        "    description='Activity_1:',\n",
        ")\n",
        "\n",
        "def on_change_act_1(change):\n",
        "    if change['type'] == 'change' and change['name'] == 'value':\n",
        "        global act_1_val\n",
        "        act_1_val = change['new']\n",
        "\n",
        "w_act_1.observe(on_change_act_1)\n",
        "\n",
        "display(w_act_1)"
      ]
    },
    {
      "cell_type": "code",
      "execution_count": 34,
      "metadata": {
        "id": "CgtRpoVFC5rn",
        "outputId": "e7619746-57ec-487e-b69f-06a1e1c065ba",
        "colab": {
          "base_uri": "https://localhost:8080/",
          "height": 79,
          "referenced_widgets": [
            "6d649fa94e364d5ca2b70616454cb0de",
            "d9ae750e7e7f49bba1c78f35fc706c05",
            "faae8c3a010f4e8caddf8c3b3f394d5f",
            "217fa311cb8845668b05e6f92616b87c",
            "b4dcf4b0255947e6beee960c5ecefa73",
            "b4f82d68f8ce48c08ec27df3acd7e06d"
          ]
        }
      },
      "outputs": [
        {
          "output_type": "display_data",
          "data": {
            "text/plain": [
              "Label(value='select second activity in sequence from the dropdown')"
            ],
            "application/vnd.jupyter.widget-view+json": {
              "version_major": 2,
              "version_minor": 0,
              "model_id": "6d649fa94e364d5ca2b70616454cb0de"
            }
          },
          "metadata": {}
        },
        {
          "output_type": "display_data",
          "data": {
            "text/plain": [
              "Dropdown(description='Activity_2:', options=('0-Dummy', '1-Emailed Client', '2-Meeting with Client', '3-Presen…"
            ],
            "application/vnd.jupyter.widget-view+json": {
              "version_major": 2,
              "version_minor": 0,
              "model_id": "217fa311cb8845668b05e6f92616b87c"
            }
          },
          "metadata": {}
        }
      ],
      "source": [
        "lbl_act_2 = widgets.Label('select second activity in sequence from the dropdown')\n",
        "display(lbl_act_2)\n",
        "w_act_2 = widgets.Dropdown(\n",
        "    options=['0-Dummy',\n",
        " '1-Emailed Client',\n",
        " '2-Meeting with Client',\n",
        " '3-Presented to Client',\n",
        " '4-Prepared Custom Demonstration',\n",
        " '5-Prepared POC',\n",
        " '6-Provided Pre-Sales Support',\n",
        " '8-Prepared Commercials',\n",
        " '9-Negotiation Meeting',\n",
        " '7-Prepared RFP Responses',\n",
        " '10-Commercials Signed',\n",
        " '11-Post Sales Support'],\n",
        "    value='0-Dummy',\n",
        "    description='Activity_2:',\n",
        ")\n",
        "\n",
        "def on_change_act_2(change):\n",
        "    if change['type'] == 'change' and change['name'] == 'value':\n",
        "        global act_2_val\n",
        "        act_2_val = change['new']\n",
        "\n",
        "w_act_2.observe(on_change_act_2)\n",
        "\n",
        "display(w_act_2)"
      ]
    },
    {
      "cell_type": "code",
      "execution_count": 35,
      "metadata": {
        "id": "jd29DBoLC5rn",
        "outputId": "92c833a7-22c6-4f8c-890f-fdbf27f8b452",
        "colab": {
          "base_uri": "https://localhost:8080/",
          "height": 79,
          "referenced_widgets": [
            "3cda646e15c2476d90cb9214f21b1a91",
            "edca3e2084134520941c6f47a40971f3",
            "f3b47d5ada894835b13fafbf5a46519b",
            "c807b38bebe84fbeb3cdcdc39aa6fe05",
            "73799a1e012b48018ec3921bf3b8b89c",
            "055b6b76c9c243c5b1cbc785f4833f4f"
          ]
        }
      },
      "outputs": [
        {
          "output_type": "display_data",
          "data": {
            "text/plain": [
              "Label(value='select third activity in sequence from the dropdown')"
            ],
            "application/vnd.jupyter.widget-view+json": {
              "version_major": 2,
              "version_minor": 0,
              "model_id": "3cda646e15c2476d90cb9214f21b1a91"
            }
          },
          "metadata": {}
        },
        {
          "output_type": "display_data",
          "data": {
            "text/plain": [
              "Dropdown(description='Activity_3:', options=('0-Dummy', '1-Emailed Client', '2-Meeting with Client', '3-Presen…"
            ],
            "application/vnd.jupyter.widget-view+json": {
              "version_major": 2,
              "version_minor": 0,
              "model_id": "c807b38bebe84fbeb3cdcdc39aa6fe05"
            }
          },
          "metadata": {}
        }
      ],
      "source": [
        "lbl_act_3 = widgets.Label('select third activity in sequence from the dropdown')\n",
        "display(lbl_act_3)\n",
        "w_act_3 = widgets.Dropdown(\n",
        "    options=['0-Dummy',\n",
        " '1-Emailed Client',\n",
        " '2-Meeting with Client',\n",
        " '3-Presented to Client',\n",
        " '4-Prepared Custom Demonstration',\n",
        " '5-Prepared POC',\n",
        " '6-Provided Pre-Sales Support',\n",
        " '8-Prepared Commercials',\n",
        " '9-Negotiation Meeting',\n",
        " '7-Prepared RFP Responses',\n",
        " '10-Commercials Signed',\n",
        " '11-Post Sales Support'],\n",
        "    value='0-Dummy',\n",
        "    description='Activity_3:',\n",
        ")\n",
        "\n",
        "def on_change_act_3(change):\n",
        "    if change['type'] == 'change' and change['name'] == 'value':\n",
        "        global act_3_val\n",
        "        act_3_val = change['new']\n",
        "\n",
        "w_act_3.observe(on_change_act_3)\n",
        "\n",
        "display(w_act_3)"
      ]
    },
    {
      "cell_type": "code",
      "execution_count": 36,
      "metadata": {
        "id": "lX4LOd2-C5rn",
        "outputId": "08afc899-d277-49b2-9204-b68c2e7ae0e8",
        "colab": {
          "base_uri": "https://localhost:8080/",
          "height": 79,
          "referenced_widgets": [
            "61aad3be283d41308a04287bffc577b2",
            "a29a2ddaf4df488f95514f7b9ef76496",
            "18d92170d9a94dcdbf97e3ad4fc39e65",
            "a743bef20fc34ca4a921da6a4a4e0bf3",
            "fc83b67a7997461f9f7fdafef0799105",
            "2f97f063907d4bd19b5764312f9f1af2"
          ]
        }
      },
      "outputs": [
        {
          "output_type": "display_data",
          "data": {
            "text/plain": [
              "Label(value='select fourth activity in sequence from the dropdown')"
            ],
            "application/vnd.jupyter.widget-view+json": {
              "version_major": 2,
              "version_minor": 0,
              "model_id": "61aad3be283d41308a04287bffc577b2"
            }
          },
          "metadata": {}
        },
        {
          "output_type": "display_data",
          "data": {
            "text/plain": [
              "Dropdown(description='Activity_4:', options=('0-Dummy', '1-Emailed Client', '2-Meeting with Client', '3-Presen…"
            ],
            "application/vnd.jupyter.widget-view+json": {
              "version_major": 2,
              "version_minor": 0,
              "model_id": "a743bef20fc34ca4a921da6a4a4e0bf3"
            }
          },
          "metadata": {}
        }
      ],
      "source": [
        "lbl_act_4 = widgets.Label('select fourth activity in sequence from the dropdown')\n",
        "display(lbl_act_4)\n",
        "w_act_4 = widgets.Dropdown(\n",
        "    options=['0-Dummy',\n",
        " '1-Emailed Client',\n",
        " '2-Meeting with Client',\n",
        " '3-Presented to Client',\n",
        " '4-Prepared Custom Demonstration',\n",
        " '5-Prepared POC',\n",
        " '6-Provided Pre-Sales Support',\n",
        " '8-Prepared Commercials',\n",
        " '9-Negotiation Meeting',\n",
        " '7-Prepared RFP Responses',\n",
        " '10-Commercials Signed',\n",
        " '11-Post Sales Support'],\n",
        "    value='0-Dummy',\n",
        "    description='Activity_4:',\n",
        ")\n",
        "\n",
        "def on_change_act_4(change):\n",
        "    if change['type'] == 'change' and change['name'] == 'value':\n",
        "        global act_4_val\n",
        "        act_4_val = change['new']\n",
        "\n",
        "w_act_4.observe(on_change_act_4)\n",
        "\n",
        "display(w_act_4)"
      ]
    },
    {
      "cell_type": "code",
      "execution_count": 37,
      "metadata": {
        "id": "LIv79Y1-C5ro"
      },
      "outputs": [],
      "source": [
        "act_lst = [int(act_1_val[0]), int(act_2_val[0]), int(act_3_val[0]), int(act_4_val[0])]"
      ]
    },
    {
      "cell_type": "code",
      "execution_count": 38,
      "metadata": {
        "id": "UPNU5eL6C5ro",
        "outputId": "9bdafd42-f8f3-480d-be86-f32505b4fe37",
        "colab": {
          "base_uri": "https://localhost:8080/"
        }
      },
      "outputs": [
        {
          "output_type": "execute_result",
          "data": {
            "text/plain": [
              "[1, 2, 1, 3]"
            ]
          },
          "metadata": {},
          "execution_count": 38
        }
      ],
      "source": [
        "act_lst"
      ]
    },
    {
      "cell_type": "code",
      "execution_count": 39,
      "metadata": {
        "id": "Q2tn83GaC5ro"
      },
      "outputs": [],
      "source": [
        "act_arr = np.array([act_lst])"
      ]
    },
    {
      "cell_type": "code",
      "execution_count": 40,
      "metadata": {
        "id": "UM1LDGlFC5ro",
        "outputId": "8ee0cb9d-2805-43c8-cc18-d369fd169edb",
        "colab": {
          "base_uri": "https://localhost:8080/"
        }
      },
      "outputs": [
        {
          "output_type": "execute_result",
          "data": {
            "text/plain": [
              "(1, 4)"
            ]
          },
          "metadata": {},
          "execution_count": 40
        }
      ],
      "source": [
        "act_arr.shape"
      ]
    },
    {
      "cell_type": "code",
      "execution_count": 41,
      "metadata": {
        "id": "0DZ6-Mb-C5ro",
        "outputId": "4c95f6e6-6738-4eff-d663-c45f3d6e4d1a",
        "colab": {
          "base_uri": "https://localhost:8080/"
        }
      },
      "outputs": [
        {
          "output_type": "execute_result",
          "data": {
            "text/plain": [
              "array([[[0., 1., 0., 0., 0., 0., 0., 0., 0., 0., 0., 0.],\n",
              "        [0., 0., 1., 0., 0., 0., 0., 0., 0., 0., 0., 0.],\n",
              "        [0., 1., 0., 0., 0., 0., 0., 0., 0., 0., 0., 0.],\n",
              "        [0., 0., 0., 1., 0., 0., 0., 0., 0., 0., 0., 0.]]], dtype=float32)"
            ]
          },
          "metadata": {},
          "execution_count": 41
        }
      ],
      "source": [
        "to_categorical(act_arr, 12)"
      ]
    },
    {
      "cell_type": "code",
      "execution_count": 42,
      "metadata": {
        "id": "S0t4NufrC5ro",
        "outputId": "24400c37-e923-4779-8080-56ae04485b27",
        "colab": {
          "base_uri": "https://localhost:8080/"
        }
      },
      "outputs": [
        {
          "output_type": "execute_result",
          "data": {
            "text/plain": [
              "(1, 4, 12)"
            ]
          },
          "metadata": {},
          "execution_count": 42
        }
      ],
      "source": [
        "to_categorical(act_arr, 12).shape"
      ]
    },
    {
      "cell_type": "code",
      "execution_count": 43,
      "metadata": {
        "id": "85VhXXnfC5rp",
        "outputId": "d5103e65-3158-490c-d24e-7d950ac3eb84",
        "colab": {
          "base_uri": "https://localhost:8080/"
        }
      },
      "outputs": [
        {
          "output_type": "stream",
          "name": "stdout",
          "text": [
            "1/1 [==============================] - 0s 29ms/step\n"
          ]
        },
        {
          "output_type": "execute_result",
          "data": {
            "text/plain": [
              "array([[1.4173084e-10, 1.3492786e-08, 2.3497188e-02, 6.9493222e-01,\n",
              "        2.4575253e-01, 2.7935946e-02, 5.8520664e-03, 1.5678358e-03,\n",
              "        1.7450933e-05, 2.2094324e-05, 3.3178661e-04, 9.0820969e-05]],\n",
              "      dtype=float32)"
            ]
          },
          "metadata": {},
          "execution_count": 43
        }
      ],
      "source": [
        "model.predict(to_categorical(act_arr, 12))"
      ]
    },
    {
      "cell_type": "code",
      "source": [
        "lst_val = model.predict(to_categorical(act_arr, 12)).tolist()"
      ],
      "metadata": {
        "id": "4iiNu_g5E9UK",
        "outputId": "d3d4da53-6e56-4b87-895d-b943ade53a7f",
        "colab": {
          "base_uri": "https://localhost:8080/"
        }
      },
      "execution_count": 52,
      "outputs": [
        {
          "output_type": "stream",
          "name": "stdout",
          "text": [
            "1/1 [==============================] - 0s 23ms/step\n"
          ]
        }
      ]
    },
    {
      "cell_type": "code",
      "source": [
        "for i  in range(0,12):\n",
        "  print( str(i)+\" action probability \"+str(lst_val[0][i]*100))"
      ],
      "metadata": {
        "id": "H7Awc8UaFuQ2",
        "outputId": "1adc7b21-81a7-49ba-ac7b-588472381ddf",
        "colab": {
          "base_uri": "https://localhost:8080/"
        }
      },
      "execution_count": 58,
      "outputs": [
        {
          "output_type": "stream",
          "name": "stdout",
          "text": [
            "0 action probability 1.4173083540125475e-08\n",
            "1 action probability 1.3492786443691784e-06\n",
            "2 action probability 2.3497188463807106\n",
            "3 action probability 69.4932222366333\n",
            "4 action probability 24.57525283098221\n",
            "5 action probability 2.7935946360230446\n",
            "6 action probability 0.5852066446095705\n",
            "7 action probability 0.156783580314368\n",
            "8 action probability 0.0017450933228246868\n",
            "9 action probability 0.0022094323867349885\n",
            "10 action probability 0.033178660669364035\n",
            "11 action probability 0.009082096948986873\n"
          ]
        }
      ]
    },
    {
      "cell_type": "code",
      "execution_count": 59,
      "metadata": {
        "id": "U4zVZVAaC5rp",
        "outputId": "ff446c1b-1264-40f1-d7ab-f4b9c93b0cba",
        "colab": {
          "base_uri": "https://localhost:8080/",
          "height": 53
        }
      },
      "outputs": [
        {
          "output_type": "stream",
          "name": "stdout",
          "text": [
            "1/1 [==============================] - 0s 36ms/step\n"
          ]
        },
        {
          "output_type": "execute_result",
          "data": {
            "text/plain": [
              "'3-Presented to Client'"
            ],
            "application/vnd.google.colaboratory.intrinsic+json": {
              "type": "string"
            }
          },
          "metadata": {},
          "execution_count": 59
        }
      ],
      "source": [
        "events[np.argmax(model.predict(to_categorical(act_arr, 12)))]"
      ]
    },
    {
      "cell_type": "code",
      "execution_count": null,
      "metadata": {
        "id": "n6Xszx6KC5rp"
      },
      "outputs": [],
      "source": []
    }
  ],
  "metadata": {
    "kernelspec": {
      "display_name": "Python 3",
      "language": "python",
      "name": "python3"
    },
    "language_info": {
      "codemirror_mode": {
        "name": "ipython",
        "version": 3
      },
      "file_extension": ".py",
      "mimetype": "text/x-python",
      "name": "python",
      "nbconvert_exporter": "python",
      "pygments_lexer": "ipython3",
      "version": "3.7.1"
    },
    "colab": {
      "provenance": []
    },
    "widgets": {
      "application/vnd.jupyter.widget-state+json": {
        "c13e70b80387494fb5efa16452c480ae": {
          "model_module": "@jupyter-widgets/controls",
          "model_name": "LabelModel",
          "model_module_version": "1.5.0",
          "state": {
            "_dom_classes": [],
            "_model_module": "@jupyter-widgets/controls",
            "_model_module_version": "1.5.0",
            "_model_name": "LabelModel",
            "_view_count": null,
            "_view_module": "@jupyter-widgets/controls",
            "_view_module_version": "1.5.0",
            "_view_name": "LabelView",
            "description": "",
            "description_tooltip": null,
            "layout": "IPY_MODEL_185450e42ad049dda9f1244630c7421e",
            "placeholder": "​",
            "style": "IPY_MODEL_564fed3544454f94af1a46b24a714cfc",
            "value": "select first activity in sequence from the dropdown"
          }
        },
        "185450e42ad049dda9f1244630c7421e": {
          "model_module": "@jupyter-widgets/base",
          "model_name": "LayoutModel",
          "model_module_version": "1.2.0",
          "state": {
            "_model_module": "@jupyter-widgets/base",
            "_model_module_version": "1.2.0",
            "_model_name": "LayoutModel",
            "_view_count": null,
            "_view_module": "@jupyter-widgets/base",
            "_view_module_version": "1.2.0",
            "_view_name": "LayoutView",
            "align_content": null,
            "align_items": null,
            "align_self": null,
            "border": null,
            "bottom": null,
            "display": null,
            "flex": null,
            "flex_flow": null,
            "grid_area": null,
            "grid_auto_columns": null,
            "grid_auto_flow": null,
            "grid_auto_rows": null,
            "grid_column": null,
            "grid_gap": null,
            "grid_row": null,
            "grid_template_areas": null,
            "grid_template_columns": null,
            "grid_template_rows": null,
            "height": null,
            "justify_content": null,
            "justify_items": null,
            "left": null,
            "margin": null,
            "max_height": null,
            "max_width": null,
            "min_height": null,
            "min_width": null,
            "object_fit": null,
            "object_position": null,
            "order": null,
            "overflow": null,
            "overflow_x": null,
            "overflow_y": null,
            "padding": null,
            "right": null,
            "top": null,
            "visibility": null,
            "width": null
          }
        },
        "564fed3544454f94af1a46b24a714cfc": {
          "model_module": "@jupyter-widgets/controls",
          "model_name": "DescriptionStyleModel",
          "model_module_version": "1.5.0",
          "state": {
            "_model_module": "@jupyter-widgets/controls",
            "_model_module_version": "1.5.0",
            "_model_name": "DescriptionStyleModel",
            "_view_count": null,
            "_view_module": "@jupyter-widgets/base",
            "_view_module_version": "1.2.0",
            "_view_name": "StyleView",
            "description_width": ""
          }
        },
        "838864c45a95452a97f84071addec6df": {
          "model_module": "@jupyter-widgets/controls",
          "model_name": "DropdownModel",
          "model_module_version": "1.5.0",
          "state": {
            "_dom_classes": [],
            "_model_module": "@jupyter-widgets/controls",
            "_model_module_version": "1.5.0",
            "_model_name": "DropdownModel",
            "_options_labels": [
              "0-Dummy",
              "1-Emailed Client",
              "2-Meeting with Client",
              "3-Presented to Client",
              "4-Prepared Custom Demonstration",
              "5-Prepared POC",
              "6-Provided Pre-Sales Support",
              "8-Prepared Commercials",
              "9-Negotiation Meeting",
              "7-Prepared RFP Responses",
              "10-Commercials Signed",
              "11-Post Sales Support"
            ],
            "_view_count": null,
            "_view_module": "@jupyter-widgets/controls",
            "_view_module_version": "1.5.0",
            "_view_name": "DropdownView",
            "description": "Activity_1:",
            "description_tooltip": null,
            "disabled": false,
            "index": 1,
            "layout": "IPY_MODEL_db27533525944733bb0a47c3006b07df",
            "style": "IPY_MODEL_952075d435084223922b4f5fa0e1cd10"
          }
        },
        "db27533525944733bb0a47c3006b07df": {
          "model_module": "@jupyter-widgets/base",
          "model_name": "LayoutModel",
          "model_module_version": "1.2.0",
          "state": {
            "_model_module": "@jupyter-widgets/base",
            "_model_module_version": "1.2.0",
            "_model_name": "LayoutModel",
            "_view_count": null,
            "_view_module": "@jupyter-widgets/base",
            "_view_module_version": "1.2.0",
            "_view_name": "LayoutView",
            "align_content": null,
            "align_items": null,
            "align_self": null,
            "border": null,
            "bottom": null,
            "display": null,
            "flex": null,
            "flex_flow": null,
            "grid_area": null,
            "grid_auto_columns": null,
            "grid_auto_flow": null,
            "grid_auto_rows": null,
            "grid_column": null,
            "grid_gap": null,
            "grid_row": null,
            "grid_template_areas": null,
            "grid_template_columns": null,
            "grid_template_rows": null,
            "height": null,
            "justify_content": null,
            "justify_items": null,
            "left": null,
            "margin": null,
            "max_height": null,
            "max_width": null,
            "min_height": null,
            "min_width": null,
            "object_fit": null,
            "object_position": null,
            "order": null,
            "overflow": null,
            "overflow_x": null,
            "overflow_y": null,
            "padding": null,
            "right": null,
            "top": null,
            "visibility": null,
            "width": null
          }
        },
        "952075d435084223922b4f5fa0e1cd10": {
          "model_module": "@jupyter-widgets/controls",
          "model_name": "DescriptionStyleModel",
          "model_module_version": "1.5.0",
          "state": {
            "_model_module": "@jupyter-widgets/controls",
            "_model_module_version": "1.5.0",
            "_model_name": "DescriptionStyleModel",
            "_view_count": null,
            "_view_module": "@jupyter-widgets/base",
            "_view_module_version": "1.2.0",
            "_view_name": "StyleView",
            "description_width": ""
          }
        },
        "6d649fa94e364d5ca2b70616454cb0de": {
          "model_module": "@jupyter-widgets/controls",
          "model_name": "LabelModel",
          "model_module_version": "1.5.0",
          "state": {
            "_dom_classes": [],
            "_model_module": "@jupyter-widgets/controls",
            "_model_module_version": "1.5.0",
            "_model_name": "LabelModel",
            "_view_count": null,
            "_view_module": "@jupyter-widgets/controls",
            "_view_module_version": "1.5.0",
            "_view_name": "LabelView",
            "description": "",
            "description_tooltip": null,
            "layout": "IPY_MODEL_d9ae750e7e7f49bba1c78f35fc706c05",
            "placeholder": "​",
            "style": "IPY_MODEL_faae8c3a010f4e8caddf8c3b3f394d5f",
            "value": "select second activity in sequence from the dropdown"
          }
        },
        "d9ae750e7e7f49bba1c78f35fc706c05": {
          "model_module": "@jupyter-widgets/base",
          "model_name": "LayoutModel",
          "model_module_version": "1.2.0",
          "state": {
            "_model_module": "@jupyter-widgets/base",
            "_model_module_version": "1.2.0",
            "_model_name": "LayoutModel",
            "_view_count": null,
            "_view_module": "@jupyter-widgets/base",
            "_view_module_version": "1.2.0",
            "_view_name": "LayoutView",
            "align_content": null,
            "align_items": null,
            "align_self": null,
            "border": null,
            "bottom": null,
            "display": null,
            "flex": null,
            "flex_flow": null,
            "grid_area": null,
            "grid_auto_columns": null,
            "grid_auto_flow": null,
            "grid_auto_rows": null,
            "grid_column": null,
            "grid_gap": null,
            "grid_row": null,
            "grid_template_areas": null,
            "grid_template_columns": null,
            "grid_template_rows": null,
            "height": null,
            "justify_content": null,
            "justify_items": null,
            "left": null,
            "margin": null,
            "max_height": null,
            "max_width": null,
            "min_height": null,
            "min_width": null,
            "object_fit": null,
            "object_position": null,
            "order": null,
            "overflow": null,
            "overflow_x": null,
            "overflow_y": null,
            "padding": null,
            "right": null,
            "top": null,
            "visibility": null,
            "width": null
          }
        },
        "faae8c3a010f4e8caddf8c3b3f394d5f": {
          "model_module": "@jupyter-widgets/controls",
          "model_name": "DescriptionStyleModel",
          "model_module_version": "1.5.0",
          "state": {
            "_model_module": "@jupyter-widgets/controls",
            "_model_module_version": "1.5.0",
            "_model_name": "DescriptionStyleModel",
            "_view_count": null,
            "_view_module": "@jupyter-widgets/base",
            "_view_module_version": "1.2.0",
            "_view_name": "StyleView",
            "description_width": ""
          }
        },
        "217fa311cb8845668b05e6f92616b87c": {
          "model_module": "@jupyter-widgets/controls",
          "model_name": "DropdownModel",
          "model_module_version": "1.5.0",
          "state": {
            "_dom_classes": [],
            "_model_module": "@jupyter-widgets/controls",
            "_model_module_version": "1.5.0",
            "_model_name": "DropdownModel",
            "_options_labels": [
              "0-Dummy",
              "1-Emailed Client",
              "2-Meeting with Client",
              "3-Presented to Client",
              "4-Prepared Custom Demonstration",
              "5-Prepared POC",
              "6-Provided Pre-Sales Support",
              "8-Prepared Commercials",
              "9-Negotiation Meeting",
              "7-Prepared RFP Responses",
              "10-Commercials Signed",
              "11-Post Sales Support"
            ],
            "_view_count": null,
            "_view_module": "@jupyter-widgets/controls",
            "_view_module_version": "1.5.0",
            "_view_name": "DropdownView",
            "description": "Activity_2:",
            "description_tooltip": null,
            "disabled": false,
            "index": 2,
            "layout": "IPY_MODEL_b4dcf4b0255947e6beee960c5ecefa73",
            "style": "IPY_MODEL_b4f82d68f8ce48c08ec27df3acd7e06d"
          }
        },
        "b4dcf4b0255947e6beee960c5ecefa73": {
          "model_module": "@jupyter-widgets/base",
          "model_name": "LayoutModel",
          "model_module_version": "1.2.0",
          "state": {
            "_model_module": "@jupyter-widgets/base",
            "_model_module_version": "1.2.0",
            "_model_name": "LayoutModel",
            "_view_count": null,
            "_view_module": "@jupyter-widgets/base",
            "_view_module_version": "1.2.0",
            "_view_name": "LayoutView",
            "align_content": null,
            "align_items": null,
            "align_self": null,
            "border": null,
            "bottom": null,
            "display": null,
            "flex": null,
            "flex_flow": null,
            "grid_area": null,
            "grid_auto_columns": null,
            "grid_auto_flow": null,
            "grid_auto_rows": null,
            "grid_column": null,
            "grid_gap": null,
            "grid_row": null,
            "grid_template_areas": null,
            "grid_template_columns": null,
            "grid_template_rows": null,
            "height": null,
            "justify_content": null,
            "justify_items": null,
            "left": null,
            "margin": null,
            "max_height": null,
            "max_width": null,
            "min_height": null,
            "min_width": null,
            "object_fit": null,
            "object_position": null,
            "order": null,
            "overflow": null,
            "overflow_x": null,
            "overflow_y": null,
            "padding": null,
            "right": null,
            "top": null,
            "visibility": null,
            "width": null
          }
        },
        "b4f82d68f8ce48c08ec27df3acd7e06d": {
          "model_module": "@jupyter-widgets/controls",
          "model_name": "DescriptionStyleModel",
          "model_module_version": "1.5.0",
          "state": {
            "_model_module": "@jupyter-widgets/controls",
            "_model_module_version": "1.5.0",
            "_model_name": "DescriptionStyleModel",
            "_view_count": null,
            "_view_module": "@jupyter-widgets/base",
            "_view_module_version": "1.2.0",
            "_view_name": "StyleView",
            "description_width": ""
          }
        },
        "3cda646e15c2476d90cb9214f21b1a91": {
          "model_module": "@jupyter-widgets/controls",
          "model_name": "LabelModel",
          "model_module_version": "1.5.0",
          "state": {
            "_dom_classes": [],
            "_model_module": "@jupyter-widgets/controls",
            "_model_module_version": "1.5.0",
            "_model_name": "LabelModel",
            "_view_count": null,
            "_view_module": "@jupyter-widgets/controls",
            "_view_module_version": "1.5.0",
            "_view_name": "LabelView",
            "description": "",
            "description_tooltip": null,
            "layout": "IPY_MODEL_edca3e2084134520941c6f47a40971f3",
            "placeholder": "​",
            "style": "IPY_MODEL_f3b47d5ada894835b13fafbf5a46519b",
            "value": "select third activity in sequence from the dropdown"
          }
        },
        "edca3e2084134520941c6f47a40971f3": {
          "model_module": "@jupyter-widgets/base",
          "model_name": "LayoutModel",
          "model_module_version": "1.2.0",
          "state": {
            "_model_module": "@jupyter-widgets/base",
            "_model_module_version": "1.2.0",
            "_model_name": "LayoutModel",
            "_view_count": null,
            "_view_module": "@jupyter-widgets/base",
            "_view_module_version": "1.2.0",
            "_view_name": "LayoutView",
            "align_content": null,
            "align_items": null,
            "align_self": null,
            "border": null,
            "bottom": null,
            "display": null,
            "flex": null,
            "flex_flow": null,
            "grid_area": null,
            "grid_auto_columns": null,
            "grid_auto_flow": null,
            "grid_auto_rows": null,
            "grid_column": null,
            "grid_gap": null,
            "grid_row": null,
            "grid_template_areas": null,
            "grid_template_columns": null,
            "grid_template_rows": null,
            "height": null,
            "justify_content": null,
            "justify_items": null,
            "left": null,
            "margin": null,
            "max_height": null,
            "max_width": null,
            "min_height": null,
            "min_width": null,
            "object_fit": null,
            "object_position": null,
            "order": null,
            "overflow": null,
            "overflow_x": null,
            "overflow_y": null,
            "padding": null,
            "right": null,
            "top": null,
            "visibility": null,
            "width": null
          }
        },
        "f3b47d5ada894835b13fafbf5a46519b": {
          "model_module": "@jupyter-widgets/controls",
          "model_name": "DescriptionStyleModel",
          "model_module_version": "1.5.0",
          "state": {
            "_model_module": "@jupyter-widgets/controls",
            "_model_module_version": "1.5.0",
            "_model_name": "DescriptionStyleModel",
            "_view_count": null,
            "_view_module": "@jupyter-widgets/base",
            "_view_module_version": "1.2.0",
            "_view_name": "StyleView",
            "description_width": ""
          }
        },
        "c807b38bebe84fbeb3cdcdc39aa6fe05": {
          "model_module": "@jupyter-widgets/controls",
          "model_name": "DropdownModel",
          "model_module_version": "1.5.0",
          "state": {
            "_dom_classes": [],
            "_model_module": "@jupyter-widgets/controls",
            "_model_module_version": "1.5.0",
            "_model_name": "DropdownModel",
            "_options_labels": [
              "0-Dummy",
              "1-Emailed Client",
              "2-Meeting with Client",
              "3-Presented to Client",
              "4-Prepared Custom Demonstration",
              "5-Prepared POC",
              "6-Provided Pre-Sales Support",
              "8-Prepared Commercials",
              "9-Negotiation Meeting",
              "7-Prepared RFP Responses",
              "10-Commercials Signed",
              "11-Post Sales Support"
            ],
            "_view_count": null,
            "_view_module": "@jupyter-widgets/controls",
            "_view_module_version": "1.5.0",
            "_view_name": "DropdownView",
            "description": "Activity_3:",
            "description_tooltip": null,
            "disabled": false,
            "index": 1,
            "layout": "IPY_MODEL_73799a1e012b48018ec3921bf3b8b89c",
            "style": "IPY_MODEL_055b6b76c9c243c5b1cbc785f4833f4f"
          }
        },
        "73799a1e012b48018ec3921bf3b8b89c": {
          "model_module": "@jupyter-widgets/base",
          "model_name": "LayoutModel",
          "model_module_version": "1.2.0",
          "state": {
            "_model_module": "@jupyter-widgets/base",
            "_model_module_version": "1.2.0",
            "_model_name": "LayoutModel",
            "_view_count": null,
            "_view_module": "@jupyter-widgets/base",
            "_view_module_version": "1.2.0",
            "_view_name": "LayoutView",
            "align_content": null,
            "align_items": null,
            "align_self": null,
            "border": null,
            "bottom": null,
            "display": null,
            "flex": null,
            "flex_flow": null,
            "grid_area": null,
            "grid_auto_columns": null,
            "grid_auto_flow": null,
            "grid_auto_rows": null,
            "grid_column": null,
            "grid_gap": null,
            "grid_row": null,
            "grid_template_areas": null,
            "grid_template_columns": null,
            "grid_template_rows": null,
            "height": null,
            "justify_content": null,
            "justify_items": null,
            "left": null,
            "margin": null,
            "max_height": null,
            "max_width": null,
            "min_height": null,
            "min_width": null,
            "object_fit": null,
            "object_position": null,
            "order": null,
            "overflow": null,
            "overflow_x": null,
            "overflow_y": null,
            "padding": null,
            "right": null,
            "top": null,
            "visibility": null,
            "width": null
          }
        },
        "055b6b76c9c243c5b1cbc785f4833f4f": {
          "model_module": "@jupyter-widgets/controls",
          "model_name": "DescriptionStyleModel",
          "model_module_version": "1.5.0",
          "state": {
            "_model_module": "@jupyter-widgets/controls",
            "_model_module_version": "1.5.0",
            "_model_name": "DescriptionStyleModel",
            "_view_count": null,
            "_view_module": "@jupyter-widgets/base",
            "_view_module_version": "1.2.0",
            "_view_name": "StyleView",
            "description_width": ""
          }
        },
        "61aad3be283d41308a04287bffc577b2": {
          "model_module": "@jupyter-widgets/controls",
          "model_name": "LabelModel",
          "model_module_version": "1.5.0",
          "state": {
            "_dom_classes": [],
            "_model_module": "@jupyter-widgets/controls",
            "_model_module_version": "1.5.0",
            "_model_name": "LabelModel",
            "_view_count": null,
            "_view_module": "@jupyter-widgets/controls",
            "_view_module_version": "1.5.0",
            "_view_name": "LabelView",
            "description": "",
            "description_tooltip": null,
            "layout": "IPY_MODEL_a29a2ddaf4df488f95514f7b9ef76496",
            "placeholder": "​",
            "style": "IPY_MODEL_18d92170d9a94dcdbf97e3ad4fc39e65",
            "value": "select fourth activity in sequence from the dropdown"
          }
        },
        "a29a2ddaf4df488f95514f7b9ef76496": {
          "model_module": "@jupyter-widgets/base",
          "model_name": "LayoutModel",
          "model_module_version": "1.2.0",
          "state": {
            "_model_module": "@jupyter-widgets/base",
            "_model_module_version": "1.2.0",
            "_model_name": "LayoutModel",
            "_view_count": null,
            "_view_module": "@jupyter-widgets/base",
            "_view_module_version": "1.2.0",
            "_view_name": "LayoutView",
            "align_content": null,
            "align_items": null,
            "align_self": null,
            "border": null,
            "bottom": null,
            "display": null,
            "flex": null,
            "flex_flow": null,
            "grid_area": null,
            "grid_auto_columns": null,
            "grid_auto_flow": null,
            "grid_auto_rows": null,
            "grid_column": null,
            "grid_gap": null,
            "grid_row": null,
            "grid_template_areas": null,
            "grid_template_columns": null,
            "grid_template_rows": null,
            "height": null,
            "justify_content": null,
            "justify_items": null,
            "left": null,
            "margin": null,
            "max_height": null,
            "max_width": null,
            "min_height": null,
            "min_width": null,
            "object_fit": null,
            "object_position": null,
            "order": null,
            "overflow": null,
            "overflow_x": null,
            "overflow_y": null,
            "padding": null,
            "right": null,
            "top": null,
            "visibility": null,
            "width": null
          }
        },
        "18d92170d9a94dcdbf97e3ad4fc39e65": {
          "model_module": "@jupyter-widgets/controls",
          "model_name": "DescriptionStyleModel",
          "model_module_version": "1.5.0",
          "state": {
            "_model_module": "@jupyter-widgets/controls",
            "_model_module_version": "1.5.0",
            "_model_name": "DescriptionStyleModel",
            "_view_count": null,
            "_view_module": "@jupyter-widgets/base",
            "_view_module_version": "1.2.0",
            "_view_name": "StyleView",
            "description_width": ""
          }
        },
        "a743bef20fc34ca4a921da6a4a4e0bf3": {
          "model_module": "@jupyter-widgets/controls",
          "model_name": "DropdownModel",
          "model_module_version": "1.5.0",
          "state": {
            "_dom_classes": [],
            "_model_module": "@jupyter-widgets/controls",
            "_model_module_version": "1.5.0",
            "_model_name": "DropdownModel",
            "_options_labels": [
              "0-Dummy",
              "1-Emailed Client",
              "2-Meeting with Client",
              "3-Presented to Client",
              "4-Prepared Custom Demonstration",
              "5-Prepared POC",
              "6-Provided Pre-Sales Support",
              "8-Prepared Commercials",
              "9-Negotiation Meeting",
              "7-Prepared RFP Responses",
              "10-Commercials Signed",
              "11-Post Sales Support"
            ],
            "_view_count": null,
            "_view_module": "@jupyter-widgets/controls",
            "_view_module_version": "1.5.0",
            "_view_name": "DropdownView",
            "description": "Activity_4:",
            "description_tooltip": null,
            "disabled": false,
            "index": 3,
            "layout": "IPY_MODEL_fc83b67a7997461f9f7fdafef0799105",
            "style": "IPY_MODEL_2f97f063907d4bd19b5764312f9f1af2"
          }
        },
        "fc83b67a7997461f9f7fdafef0799105": {
          "model_module": "@jupyter-widgets/base",
          "model_name": "LayoutModel",
          "model_module_version": "1.2.0",
          "state": {
            "_model_module": "@jupyter-widgets/base",
            "_model_module_version": "1.2.0",
            "_model_name": "LayoutModel",
            "_view_count": null,
            "_view_module": "@jupyter-widgets/base",
            "_view_module_version": "1.2.0",
            "_view_name": "LayoutView",
            "align_content": null,
            "align_items": null,
            "align_self": null,
            "border": null,
            "bottom": null,
            "display": null,
            "flex": null,
            "flex_flow": null,
            "grid_area": null,
            "grid_auto_columns": null,
            "grid_auto_flow": null,
            "grid_auto_rows": null,
            "grid_column": null,
            "grid_gap": null,
            "grid_row": null,
            "grid_template_areas": null,
            "grid_template_columns": null,
            "grid_template_rows": null,
            "height": null,
            "justify_content": null,
            "justify_items": null,
            "left": null,
            "margin": null,
            "max_height": null,
            "max_width": null,
            "min_height": null,
            "min_width": null,
            "object_fit": null,
            "object_position": null,
            "order": null,
            "overflow": null,
            "overflow_x": null,
            "overflow_y": null,
            "padding": null,
            "right": null,
            "top": null,
            "visibility": null,
            "width": null
          }
        },
        "2f97f063907d4bd19b5764312f9f1af2": {
          "model_module": "@jupyter-widgets/controls",
          "model_name": "DescriptionStyleModel",
          "model_module_version": "1.5.0",
          "state": {
            "_model_module": "@jupyter-widgets/controls",
            "_model_module_version": "1.5.0",
            "_model_name": "DescriptionStyleModel",
            "_view_count": null,
            "_view_module": "@jupyter-widgets/base",
            "_view_module_version": "1.2.0",
            "_view_name": "StyleView",
            "description_width": ""
          }
        }
      }
    }
  },
  "nbformat": 4,
  "nbformat_minor": 0
}