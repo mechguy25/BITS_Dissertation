{
 "cells": [
  {
   "cell_type": "code",
   "execution_count": 270,
   "metadata": {},
   "outputs": [],
   "source": [
    "import pandas as pd"
   ]
  },
  {
   "cell_type": "code",
   "execution_count": 271,
   "metadata": {},
   "outputs": [],
   "source": [
    "df = pd.read_csv('data_category.csv')"
   ]
  },
  {
   "cell_type": "code",
   "execution_count": 272,
   "metadata": {},
   "outputs": [
    {
     "data": {
      "text/plain": [
       "Index(['acct_id', 'RPTG_SLS_MGMT_LVL_1', 'DELL_INDUSTRY_TAXONOMY_L1',\n",
       "       'ORG_USER_DEFINED_VALUE_113', 'emp_size', 'buy_power', 'decision_maker',\n",
       "       'time_taking'],\n",
       "      dtype='object')"
      ]
     },
     "execution_count": 272,
     "metadata": {},
     "output_type": "execute_result"
    }
   ],
   "source": [
    "df.columns"
   ]
  },
  {
   "cell_type": "code",
   "execution_count": 273,
   "metadata": {},
   "outputs": [
    {
     "data": {
      "text/html": [
       "<div>\n",
       "<style scoped>\n",
       "    .dataframe tbody tr th:only-of-type {\n",
       "        vertical-align: middle;\n",
       "    }\n",
       "\n",
       "    .dataframe tbody tr th {\n",
       "        vertical-align: top;\n",
       "    }\n",
       "\n",
       "    .dataframe thead th {\n",
       "        text-align: right;\n",
       "    }\n",
       "</style>\n",
       "<table border=\"1\" class=\"dataframe\">\n",
       "  <thead>\n",
       "    <tr style=\"text-align: right;\">\n",
       "      <th></th>\n",
       "      <th>acct_id</th>\n",
       "      <th>RPTG_SLS_MGMT_LVL_1</th>\n",
       "      <th>DELL_INDUSTRY_TAXONOMY_L1</th>\n",
       "      <th>ORG_USER_DEFINED_VALUE_113</th>\n",
       "      <th>emp_size</th>\n",
       "      <th>buy_power</th>\n",
       "      <th>decision_maker</th>\n",
       "      <th>time_taking</th>\n",
       "    </tr>\n",
       "  </thead>\n",
       "  <tbody>\n",
       "    <tr>\n",
       "      <th>0</th>\n",
       "      <td>1</td>\n",
       "      <td>APJ</td>\n",
       "      <td>Manufacturing</td>\n",
       "      <td>T1</td>\n",
       "      <td>4275</td>\n",
       "      <td>1421420.539</td>\n",
       "      <td>0</td>\n",
       "      <td>0</td>\n",
       "    </tr>\n",
       "    <tr>\n",
       "      <th>1</th>\n",
       "      <td>2</td>\n",
       "      <td>CSB</td>\n",
       "      <td>Agriculture</td>\n",
       "      <td>T5</td>\n",
       "      <td>20</td>\n",
       "      <td>125374.000</td>\n",
       "      <td>1</td>\n",
       "      <td>0</td>\n",
       "    </tr>\n",
       "    <tr>\n",
       "      <th>2</th>\n",
       "      <td>3</td>\n",
       "      <td>CSB</td>\n",
       "      <td>Agriculture</td>\n",
       "      <td>T5</td>\n",
       "      <td>7725</td>\n",
       "      <td>109690.000</td>\n",
       "      <td>1</td>\n",
       "      <td>0</td>\n",
       "    </tr>\n",
       "    <tr>\n",
       "      <th>3</th>\n",
       "      <td>4</td>\n",
       "      <td>EMEA</td>\n",
       "      <td>Business, Engineering &amp; Consumer Services</td>\n",
       "      <td>T3</td>\n",
       "      <td>239</td>\n",
       "      <td>176520.000</td>\n",
       "      <td>0</td>\n",
       "      <td>0</td>\n",
       "    </tr>\n",
       "    <tr>\n",
       "      <th>4</th>\n",
       "      <td>5</td>\n",
       "      <td>NAMERICA</td>\n",
       "      <td>Telecom, Media &amp; Entertainment</td>\n",
       "      <td>T2</td>\n",
       "      <td>80</td>\n",
       "      <td>45000.000</td>\n",
       "      <td>0</td>\n",
       "      <td>0</td>\n",
       "    </tr>\n",
       "  </tbody>\n",
       "</table>\n",
       "</div>"
      ],
      "text/plain": [
       "   acct_id RPTG_SLS_MGMT_LVL_1                  DELL_INDUSTRY_TAXONOMY_L1  \\\n",
       "0        1                 APJ                              Manufacturing   \n",
       "1        2                 CSB                                Agriculture   \n",
       "2        3                 CSB                                Agriculture   \n",
       "3        4                EMEA  Business, Engineering & Consumer Services   \n",
       "4        5            NAMERICA             Telecom, Media & Entertainment   \n",
       "\n",
       "  ORG_USER_DEFINED_VALUE_113  emp_size    buy_power  decision_maker  \\\n",
       "0                         T1      4275  1421420.539               0   \n",
       "1                         T5        20   125374.000               1   \n",
       "2                         T5      7725   109690.000               1   \n",
       "3                         T3       239   176520.000               0   \n",
       "4                         T2        80    45000.000               0   \n",
       "\n",
       "   time_taking  \n",
       "0            0  \n",
       "1            0  \n",
       "2            0  \n",
       "3            0  \n",
       "4            0  "
      ]
     },
     "execution_count": 273,
     "metadata": {},
     "output_type": "execute_result"
    }
   ],
   "source": [
    "df.head()"
   ]
  },
  {
   "cell_type": "code",
   "execution_count": 276,
   "metadata": {},
   "outputs": [],
   "source": [
    "df2 = df.groupby(['DELL_INDUSTRY_TAXONOMY_L1','time_taking']).size().reset_index()"
   ]
  },
  {
   "cell_type": "code",
   "execution_count": 277,
   "metadata": {},
   "outputs": [
    {
     "data": {
      "text/html": [
       "<div>\n",
       "<style scoped>\n",
       "    .dataframe tbody tr th:only-of-type {\n",
       "        vertical-align: middle;\n",
       "    }\n",
       "\n",
       "    .dataframe tbody tr th {\n",
       "        vertical-align: top;\n",
       "    }\n",
       "\n",
       "    .dataframe thead th {\n",
       "        text-align: right;\n",
       "    }\n",
       "</style>\n",
       "<table border=\"1\" class=\"dataframe\">\n",
       "  <thead>\n",
       "    <tr style=\"text-align: right;\">\n",
       "      <th></th>\n",
       "      <th>DELL_INDUSTRY_TAXONOMY_L1</th>\n",
       "      <th>time_taking</th>\n",
       "      <th>0</th>\n",
       "    </tr>\n",
       "  </thead>\n",
       "  <tbody>\n",
       "    <tr>\n",
       "      <th>0</th>\n",
       "      <td>Agriculture</td>\n",
       "      <td>0</td>\n",
       "      <td>2601</td>\n",
       "    </tr>\n",
       "    <tr>\n",
       "      <th>1</th>\n",
       "      <td>Agriculture</td>\n",
       "      <td>1</td>\n",
       "      <td>2</td>\n",
       "    </tr>\n",
       "    <tr>\n",
       "      <th>2</th>\n",
       "      <td>Banking, Financial Services &amp; Insurance</td>\n",
       "      <td>0</td>\n",
       "      <td>1917</td>\n",
       "    </tr>\n",
       "    <tr>\n",
       "      <th>3</th>\n",
       "      <td>Banking, Financial Services &amp; Insurance</td>\n",
       "      <td>1</td>\n",
       "      <td>65</td>\n",
       "    </tr>\n",
       "    <tr>\n",
       "      <th>4</th>\n",
       "      <td>Banking, Financial Services &amp; Insurance</td>\n",
       "      <td>2</td>\n",
       "      <td>7</td>\n",
       "    </tr>\n",
       "    <tr>\n",
       "      <th>5</th>\n",
       "      <td>Business, Engineering &amp; Consumer Services</td>\n",
       "      <td>0</td>\n",
       "      <td>3650</td>\n",
       "    </tr>\n",
       "    <tr>\n",
       "      <th>6</th>\n",
       "      <td>Business, Engineering &amp; Consumer Services</td>\n",
       "      <td>1</td>\n",
       "      <td>33</td>\n",
       "    </tr>\n",
       "    <tr>\n",
       "      <th>7</th>\n",
       "      <td>Business, Engineering &amp; Consumer Services</td>\n",
       "      <td>2</td>\n",
       "      <td>1</td>\n",
       "    </tr>\n",
       "    <tr>\n",
       "      <th>8</th>\n",
       "      <td>Construction &amp; Real Estate</td>\n",
       "      <td>0</td>\n",
       "      <td>458</td>\n",
       "    </tr>\n",
       "    <tr>\n",
       "      <th>9</th>\n",
       "      <td>Construction &amp; Real Estate</td>\n",
       "      <td>1</td>\n",
       "      <td>4</td>\n",
       "    </tr>\n",
       "    <tr>\n",
       "      <th>10</th>\n",
       "      <td>Education</td>\n",
       "      <td>0</td>\n",
       "      <td>2141</td>\n",
       "    </tr>\n",
       "    <tr>\n",
       "      <th>11</th>\n",
       "      <td>Education</td>\n",
       "      <td>1</td>\n",
       "      <td>5</td>\n",
       "    </tr>\n",
       "    <tr>\n",
       "      <th>12</th>\n",
       "      <td>Energy</td>\n",
       "      <td>0</td>\n",
       "      <td>566</td>\n",
       "    </tr>\n",
       "    <tr>\n",
       "      <th>13</th>\n",
       "      <td>Energy</td>\n",
       "      <td>1</td>\n",
       "      <td>15</td>\n",
       "    </tr>\n",
       "    <tr>\n",
       "      <th>14</th>\n",
       "      <td>Government</td>\n",
       "      <td>0</td>\n",
       "      <td>2136</td>\n",
       "    </tr>\n",
       "    <tr>\n",
       "      <th>15</th>\n",
       "      <td>Government</td>\n",
       "      <td>1</td>\n",
       "      <td>14</td>\n",
       "    </tr>\n",
       "    <tr>\n",
       "      <th>16</th>\n",
       "      <td>Government</td>\n",
       "      <td>2</td>\n",
       "      <td>1</td>\n",
       "    </tr>\n",
       "    <tr>\n",
       "      <th>17</th>\n",
       "      <td>Healthcare &amp; Life Sciences</td>\n",
       "      <td>0</td>\n",
       "      <td>1481</td>\n",
       "    </tr>\n",
       "    <tr>\n",
       "      <th>18</th>\n",
       "      <td>Healthcare &amp; Life Sciences</td>\n",
       "      <td>1</td>\n",
       "      <td>33</td>\n",
       "    </tr>\n",
       "    <tr>\n",
       "      <th>19</th>\n",
       "      <td>Healthcare &amp; Life Sciences</td>\n",
       "      <td>2</td>\n",
       "      <td>3</td>\n",
       "    </tr>\n",
       "    <tr>\n",
       "      <th>20</th>\n",
       "      <td>Manufacturing</td>\n",
       "      <td>0</td>\n",
       "      <td>3510</td>\n",
       "    </tr>\n",
       "    <tr>\n",
       "      <th>21</th>\n",
       "      <td>Manufacturing</td>\n",
       "      <td>1</td>\n",
       "      <td>37</td>\n",
       "    </tr>\n",
       "    <tr>\n",
       "      <th>22</th>\n",
       "      <td>Retail</td>\n",
       "      <td>0</td>\n",
       "      <td>1874</td>\n",
       "    </tr>\n",
       "    <tr>\n",
       "      <th>23</th>\n",
       "      <td>Retail</td>\n",
       "      <td>1</td>\n",
       "      <td>14</td>\n",
       "    </tr>\n",
       "    <tr>\n",
       "      <th>24</th>\n",
       "      <td>Retail</td>\n",
       "      <td>2</td>\n",
       "      <td>1</td>\n",
       "    </tr>\n",
       "    <tr>\n",
       "      <th>25</th>\n",
       "      <td>Telecom, Media &amp; Entertainment</td>\n",
       "      <td>0</td>\n",
       "      <td>935</td>\n",
       "    </tr>\n",
       "    <tr>\n",
       "      <th>26</th>\n",
       "      <td>Telecom, Media &amp; Entertainment</td>\n",
       "      <td>1</td>\n",
       "      <td>29</td>\n",
       "    </tr>\n",
       "    <tr>\n",
       "      <th>27</th>\n",
       "      <td>Telecom, Media &amp; Entertainment</td>\n",
       "      <td>2</td>\n",
       "      <td>5</td>\n",
       "    </tr>\n",
       "    <tr>\n",
       "      <th>28</th>\n",
       "      <td>Telecom, Media &amp; Entertainment</td>\n",
       "      <td>3</td>\n",
       "      <td>1</td>\n",
       "    </tr>\n",
       "    <tr>\n",
       "      <th>29</th>\n",
       "      <td>Transportation</td>\n",
       "      <td>0</td>\n",
       "      <td>486</td>\n",
       "    </tr>\n",
       "    <tr>\n",
       "      <th>30</th>\n",
       "      <td>Transportation</td>\n",
       "      <td>1</td>\n",
       "      <td>6</td>\n",
       "    </tr>\n",
       "    <tr>\n",
       "      <th>31</th>\n",
       "      <td>Transportation</td>\n",
       "      <td>2</td>\n",
       "      <td>2</td>\n",
       "    </tr>\n",
       "    <tr>\n",
       "      <th>32</th>\n",
       "      <td>Web &amp; Tech</td>\n",
       "      <td>0</td>\n",
       "      <td>1783</td>\n",
       "    </tr>\n",
       "    <tr>\n",
       "      <th>33</th>\n",
       "      <td>Web &amp; Tech</td>\n",
       "      <td>1</td>\n",
       "      <td>27</td>\n",
       "    </tr>\n",
       "    <tr>\n",
       "      <th>34</th>\n",
       "      <td>Web &amp; Tech</td>\n",
       "      <td>2</td>\n",
       "      <td>4</td>\n",
       "    </tr>\n",
       "  </tbody>\n",
       "</table>\n",
       "</div>"
      ],
      "text/plain": [
       "                    DELL_INDUSTRY_TAXONOMY_L1  time_taking     0\n",
       "0                                 Agriculture            0  2601\n",
       "1                                 Agriculture            1     2\n",
       "2     Banking, Financial Services & Insurance            0  1917\n",
       "3     Banking, Financial Services & Insurance            1    65\n",
       "4     Banking, Financial Services & Insurance            2     7\n",
       "5   Business, Engineering & Consumer Services            0  3650\n",
       "6   Business, Engineering & Consumer Services            1    33\n",
       "7   Business, Engineering & Consumer Services            2     1\n",
       "8                  Construction & Real Estate            0   458\n",
       "9                  Construction & Real Estate            1     4\n",
       "10                                  Education            0  2141\n",
       "11                                  Education            1     5\n",
       "12                                     Energy            0   566\n",
       "13                                     Energy            1    15\n",
       "14                                 Government            0  2136\n",
       "15                                 Government            1    14\n",
       "16                                 Government            2     1\n",
       "17                 Healthcare & Life Sciences            0  1481\n",
       "18                 Healthcare & Life Sciences            1    33\n",
       "19                 Healthcare & Life Sciences            2     3\n",
       "20                              Manufacturing            0  3510\n",
       "21                              Manufacturing            1    37\n",
       "22                                     Retail            0  1874\n",
       "23                                     Retail            1    14\n",
       "24                                     Retail            2     1\n",
       "25             Telecom, Media & Entertainment            0   935\n",
       "26             Telecom, Media & Entertainment            1    29\n",
       "27             Telecom, Media & Entertainment            2     5\n",
       "28             Telecom, Media & Entertainment            3     1\n",
       "29                             Transportation            0   486\n",
       "30                             Transportation            1     6\n",
       "31                             Transportation            2     2\n",
       "32                                 Web & Tech            0  1783\n",
       "33                                 Web & Tech            1    27\n",
       "34                                 Web & Tech            2     4"
      ]
     },
     "execution_count": 277,
     "metadata": {},
     "output_type": "execute_result"
    }
   ],
   "source": [
    "df2"
   ]
  },
  {
   "cell_type": "code",
   "execution_count": 278,
   "metadata": {},
   "outputs": [
    {
     "data": {
      "text/plain": [
       "<AxesSubplot:xlabel='time_taking'>"
      ]
     },
     "execution_count": 278,
     "metadata": {},
     "output_type": "execute_result"
    },
    {
     "data": {
      "image/png": "[encoded data removed]",
      "text/plain": [
       "<Figure size 432x288 with 1 Axes>"
      ]
     },
     "metadata": {
      "needs_background": "light"
     },
     "output_type": "display_data"
    }
   ],
   "source": [
    "df.groupby(['time_taking']).size().plot(kind='bar')"
   ]
  },
  {
   "cell_type": "code",
   "execution_count": 279,
   "metadata": {},
   "outputs": [],
   "source": [
    "from keras.models import Sequential\n",
    "from keras.layers import Dense"
   ]
  },
  {
   "cell_type": "code",
   "execution_count": 280,
   "metadata": {},
   "outputs": [],
   "source": [
    "in_data = df[['RPTG_SLS_MGMT_LVL_1', 'DELL_INDUSTRY_TAXONOMY_L1',\n",
    "       'ORG_USER_DEFINED_VALUE_113', 'emp_size', 'buy_power', 'decision_maker','time_taking']]\n",
    "df = df.fillna(0)\n",
    "in_data = pd.get_dummies(in_data, columns=['RPTG_SLS_MGMT_LVL_1', 'DELL_INDUSTRY_TAXONOMY_L1',\n",
    "       'ORG_USER_DEFINED_VALUE_113'])"
   ]
  },
  {
   "cell_type": "code",
   "execution_count": 281,
   "metadata": {},
   "outputs": [
    {
     "data": {
      "text/plain": [
       "Index(['emp_size', 'buy_power', 'decision_maker', 'time_taking',\n",
       "       'RPTG_SLS_MGMT_LVL_1_APJ', 'RPTG_SLS_MGMT_LVL_1_CSB',\n",
       "       'RPTG_SLS_MGMT_LVL_1_EMEA', 'RPTG_SLS_MGMT_LVL_1_Greater China',\n",
       "       'RPTG_SLS_MGMT_LVL_1_LA', 'RPTG_SLS_MGMT_LVL_1_NAMERICA',\n",
       "       'DELL_INDUSTRY_TAXONOMY_L1_Agriculture',\n",
       "       'DELL_INDUSTRY_TAXONOMY_L1_Banking, Financial Services & Insurance',\n",
       "       'DELL_INDUSTRY_TAXONOMY_L1_Business, Engineering & Consumer Services',\n",
       "       'DELL_INDUSTRY_TAXONOMY_L1_Construction & Real Estate',\n",
       "       'DELL_INDUSTRY_TAXONOMY_L1_Education',\n",
       "       'DELL_INDUSTRY_TAXONOMY_L1_Energy',\n",
       "       'DELL_INDUSTRY_TAXONOMY_L1_Government',\n",
       "       'DELL_INDUSTRY_TAXONOMY_L1_Healthcare & Life Sciences',\n",
       "       'DELL_INDUSTRY_TAXONOMY_L1_Manufacturing',\n",
       "       'DELL_INDUSTRY_TAXONOMY_L1_Retail',\n",
       "       'DELL_INDUSTRY_TAXONOMY_L1_Telecom, Media & Entertainment',\n",
       "       'DELL_INDUSTRY_TAXONOMY_L1_Transportation',\n",
       "       'DELL_INDUSTRY_TAXONOMY_L1_Web & Tech', 'ORG_USER_DEFINED_VALUE_113_T1',\n",
       "       'ORG_USER_DEFINED_VALUE_113_T2', 'ORG_USER_DEFINED_VALUE_113_T3',\n",
       "       'ORG_USER_DEFINED_VALUE_113_T4', 'ORG_USER_DEFINED_VALUE_113_T5'],\n",
       "      dtype='object')"
      ]
     },
     "execution_count": 281,
     "metadata": {},
     "output_type": "execute_result"
    }
   ],
   "source": [
    "in_data.columns"
   ]
  },
  {
   "cell_type": "code",
   "execution_count": 283,
   "metadata": {},
   "outputs": [],
   "source": [
    "from sklearn.utils import shuffle\n",
    "import numpy as np\n",
    "in_data = shuffle(in_data)\n",
    "X = in_data.drop(['time_taking'], axis = 1)\n",
    "X = np.array(X)\n",
    "Y = np.array(in_data['time_taking'])"
   ]
  },
  {
   "cell_type": "code",
   "execution_count": 284,
   "metadata": {},
   "outputs": [],
   "source": [
    "from sklearn.preprocessing import LabelEncoder\n",
    "from keras.utils.np_utils import to_categorical\n",
    "l_encode = LabelEncoder()\n",
    "l_encode.fit(Y)\n",
    "Y = l_encode.transform(Y)\n",
    "Y = to_categorical(Y)\n"
   ]
  },
  {
   "cell_type": "code",
   "execution_count": 285,
   "metadata": {},
   "outputs": [
    {
     "data": {
      "text/plain": [
       "array([[1., 0., 0., 0.],\n",
       "       [1., 0., 0., 0.],\n",
       "       [1., 0., 0., 0.],\n",
       "       ...,\n",
       "       [1., 0., 0., 0.],\n",
       "       [1., 0., 0., 0.],\n",
       "       [1., 0., 0., 0.]], dtype=float32)"
      ]
     },
     "execution_count": 285,
     "metadata": {},
     "output_type": "execute_result"
    }
   ],
   "source": [
    "Y"
   ]
  },
  {
   "cell_type": "code",
   "execution_count": 286,
   "metadata": {},
   "outputs": [
    {
     "data": {
      "text/plain": [
       "((16692, 27), (16692, 4), (7155, 27), (7155, 4))"
      ]
     },
     "execution_count": 286,
     "metadata": {},
     "output_type": "execute_result"
    }
   ],
   "source": [
    "from sklearn.model_selection import train_test_split\n",
    "train_x, test_x, train_y, test_y = train_test_split(X,Y, test_size = 0.3, random_state = 0)\n",
    "train_x.shape, train_y.shape, test_x.shape, test_y.shape"
   ]
  },
  {
   "cell_type": "code",
   "execution_count": 288,
   "metadata": {},
   "outputs": [
    {
     "name": "stdout",
     "output_type": "stream",
     "text": [
      "Epoch 1/5\n",
      "3339/3339 [==============================] - 6s 2ms/step - loss: nan - accuracy: 0.7550\n",
      "Epoch 2/5\n",
      "3339/3339 [==============================] - 5s 2ms/step - loss: nan - accuracy: 0.9871\n",
      "Epoch 3/5\n",
      "3339/3339 [==============================] - 5s 2ms/step - loss: nan - accuracy: 0.9871\n",
      "Epoch 4/5\n",
      "3339/3339 [==============================] - 6s 2ms/step - loss: nan - accuracy: 0.9871\n",
      "Epoch 5/5\n",
      "3339/3339 [==============================] - 5s 2ms/step - loss: nan - accuracy: 0.9871\n",
      "224/224 [==============================] - 0s 1ms/step - loss: nan - accuracy: 0.9869\n",
      "\n",
      "loss: nan\n",
      "\n",
      "accuracy: 0.987\n"
     ]
    }
   ],
   "source": [
    "in_dim = len(in_data.columns)-1\n",
    "\n",
    "model = Sequential()\n",
    "model.add(Dense(8, input_dim = in_dim, activation = 'relu'))\n",
    "model.add(Dense(4, activation = 'softmax'))\n",
    "\n",
    "model.compile(loss = 'categorical_crossentropy', optimizer = 'adam', metrics = ['accuracy'])\n",
    "model.fit(train_x, train_y, epochs = 5, batch_size = 5)\n",
    "scores = model.evaluate(test_x, test_y)\n",
    "\n",
    "for i, m in enumerate(model.metrics_names):\n",
    "    print(\"\\n%s: %.3f\"% (m, scores[i]))"
   ]
  },
  {
   "cell_type": "code",
   "execution_count": 289,
   "metadata": {},
   "outputs": [
    {
     "name": "stdout",
     "output_type": "stream",
     "text": [
      "Model: \"sequential_10\"\n",
      "_________________________________________________________________\n",
      " Layer (type)                Output Shape              Param #   \n",
      "=================================================================\n",
      " dense_38 (Dense)            (None, 8)                 224       \n",
      "                                                                 \n",
      " dense_39 (Dense)            (None, 4)                 36        \n",
      "                                                                 \n",
      "=================================================================\n",
      "Total params: 260\n",
      "Trainable params: 260\n",
      "Non-trainable params: 0\n",
      "_________________________________________________________________\n"
     ]
    }
   ],
   "source": [
    "model.summary()"
   ]
  },
  {
   "cell_type": "code",
   "execution_count": 290,
   "metadata": {},
   "outputs": [
    {
     "name": "stdout",
     "output_type": "stream",
     "text": [
      "224/224 [==============================] - 0s 1ms/step\n"
     ]
    }
   ],
   "source": [
    "y_pred = model.predict(test_x)"
   ]
  },
  {
   "cell_type": "code",
   "execution_count": 291,
   "metadata": {},
   "outputs": [
    {
     "data": {
      "text/plain": [
       "array([[7061,    0,    0],\n",
       "       [  85,    0,    0],\n",
       "       [   9,    0,    0]], dtype=int64)"
      ]
     },
     "execution_count": 291,
     "metadata": {},
     "output_type": "execute_result"
    }
   ],
   "source": [
    "from sklearn import metrics\n",
    "metrics.confusion_matrix(test_y.argmax(axis=1), y_pred.argmax(axis=1))"
   ]
  },
  {
   "cell_type": "code",
   "execution_count": 292,
   "metadata": {},
   "outputs": [],
   "source": [
    "# importing alll the necessary packages to use the various classification algorithms\n",
    "from sklearn.linear_model import LogisticRegression  # for Logistic Regression algorithm\n",
    "from sklearn.model_selection import train_test_split #to split the dataset for training and testing\n",
    "from sklearn.neighbors import KNeighborsClassifier  # for K nearest neighbours\n",
    "from sklearn import svm  #for Support Vector Machine (SVM) Algorithm\n",
    "from sklearn import metrics #for checking the model accuracy\n",
    "from sklearn.tree import DecisionTreeClassifier #for using Decision Tree Algoithm"
   ]
  },
  {
   "cell_type": "code",
   "execution_count": 293,
   "metadata": {},
   "outputs": [],
   "source": [
    "in_data = in_data.fillna(0)"
   ]
  },
  {
   "cell_type": "code",
   "execution_count": 294,
   "metadata": {},
   "outputs": [
    {
     "name": "stdout",
     "output_type": "stream",
     "text": [
      "(16692, 28)\n",
      "(7155, 28)\n"
     ]
    }
   ],
   "source": [
    "train, test = train_test_split(in_data, test_size = 0.3)# in this our main data is split into train and test\n",
    "# the attribute test_size=0.3 splits the data into 70% and 30% ratio. train=70% and test=30%\n",
    "print(train.shape)\n",
    "print(test.shape)"
   ]
  },
  {
   "cell_type": "code",
   "execution_count": 295,
   "metadata": {},
   "outputs": [],
   "source": [
    "train_X = train.drop(['time_taking'], axis = 1)# taking the training data features\n",
    "train_y=train.time_taking# output of our training data\n",
    "test_X=  test.drop(['time_taking'], axis = 1)# taking test data features\n",
    "test_y =test.time_taking   #output value of test data"
   ]
  },
  {
   "cell_type": "code",
   "execution_count": 301,
   "metadata": {},
   "outputs": [],
   "source": [
    "import warnings\n",
    "warnings.filterwarnings(\"ignore\")"
   ]
  },
  {
   "cell_type": "code",
   "execution_count": 334,
   "metadata": {},
   "outputs": [
    {
     "name": "stdout",
     "output_type": "stream",
     "text": [
      "The accuracy of the Logistic Regression is 0.9932914046121594\n"
     ]
    }
   ],
   "source": [
    "model = LogisticRegression()\n",
    "model.fit(train_X,train_y)\n",
    "prediction=model.predict(test_X)\n",
    "print('The accuracy of the Logistic Regression is',metrics.accuracy_score(prediction,test_y))"
   ]
  },
  {
   "cell_type": "code",
   "execution_count": 321,
   "metadata": {},
   "outputs": [
    {
     "data": {
      "text/plain": [
       "array([[7070,    0,    0,    0],\n",
       "       [  43,   29,    1,    2],\n",
       "       [   0,    1,    8,    1],\n",
       "       [   0,    0,    0,    0]], dtype=int64)"
      ]
     },
     "execution_count": 321,
     "metadata": {},
     "output_type": "execute_result"
    }
   ],
   "source": [
    "from sklearn.metrics import confusion_matrix\n",
    "confusion_matrix(test_y, prediction)"
   ]
  },
  {
   "cell_type": "code",
   "execution_count": 322,
   "metadata": {},
   "outputs": [],
   "source": [
    "from sklearn.metrics import precision_recall_fscore_support"
   ]
  },
  {
   "cell_type": "code",
   "execution_count": 325,
   "metadata": {},
   "outputs": [
    {
     "name": "stdout",
     "output_type": "stream",
     "text": [
      "F1 Score\n",
      "0.5978636042266705\n",
      "\n",
      "precision\n",
      "0.7123775715825484\n",
      "\n",
      "Recall\n",
      "0.5466666666666666\n"
     ]
    }
   ],
   "source": [
    "print(\"F1 Score\")\n",
    "print(f1_score(test_y, prediction, average=\"macro\"))\n",
    "print(\"\\nprecision\")\n",
    "print(precision_score(test_y, prediction, average=\"macro\"))\n",
    "print(\"\\nRecall\")\n",
    "print(recall_score(test_y, prediction, average=\"macro\"))"
   ]
  },
  {
   "cell_type": "code",
   "execution_count": 326,
   "metadata": {},
   "outputs": [
    {
     "name": "stdout",
     "output_type": "stream",
     "text": [
      "The accuracy of the SVM is: 0.9881201956673655\n"
     ]
    }
   ],
   "source": [
    "model = svm.SVC() #select the algorithm\n",
    "model.fit(train_X,train_y) # we train the algorithm with the training data and the training output\n",
    "prediction=model.predict(test_X) #now we pass the testing data to the trained algorithm\n",
    "print('The accuracy of the SVM is:',metrics.accuracy_score(prediction,test_y))"
   ]
  },
  {
   "cell_type": "code",
   "execution_count": 327,
   "metadata": {},
   "outputs": [
    {
     "data": {
      "text/plain": [
       "array([[7070,    0,    0],\n",
       "       [  75,    0,    0],\n",
       "       [  10,    0,    0]], dtype=int64)"
      ]
     },
     "execution_count": 327,
     "metadata": {},
     "output_type": "execute_result"
    }
   ],
   "source": [
    "from sklearn.metrics import confusion_matrix\n",
    "confusion_matrix(test_y, prediction)"
   ]
  },
  {
   "cell_type": "code",
   "execution_count": 328,
   "metadata": {},
   "outputs": [
    {
     "name": "stdout",
     "output_type": "stream",
     "text": [
      "F1 Score\n",
      "0.3313415348564734\n",
      "\n",
      "precision\n",
      "0.3293733985557885\n",
      "\n",
      "Recall\n",
      "0.3333333333333333\n"
     ]
    }
   ],
   "source": [
    "print(\"F1 Score\")\n",
    "print(f1_score(test_y, prediction, average=\"macro\"))\n",
    "print(\"\\nprecision\")\n",
    "print(precision_score(test_y, prediction, average=\"macro\"))\n",
    "print(\"\\nRecall\")\n",
    "print(recall_score(test_y, prediction, average=\"macro\"))"
   ]
  },
  {
   "cell_type": "code",
   "execution_count": 329,
   "metadata": {},
   "outputs": [
    {
     "name": "stdout",
     "output_type": "stream",
     "text": [
      "The accuracy of the Decision Tree is 1.0\n"
     ]
    }
   ],
   "source": [
    "# Decision Tree Classifier\n",
    "model=DecisionTreeClassifier()\n",
    "model.fit(train_X,train_y)\n",
    "prediction=model.predict(test_X)\n",
    "print('The accuracy of the Decision Tree is',metrics.accuracy_score(prediction,test_y))"
   ]
  },
  {
   "cell_type": "code",
   "execution_count": 330,
   "metadata": {},
   "outputs": [
    {
     "data": {
      "text/plain": [
       "array([[7070,    0,    0],\n",
       "       [   0,   75,    0],\n",
       "       [   0,    0,   10]], dtype=int64)"
      ]
     },
     "execution_count": 330,
     "metadata": {},
     "output_type": "execute_result"
    }
   ],
   "source": [
    "# Decision Tree Confusion Matrix\n",
    "confusion_matrix(test_y, prediction)"
   ]
  },
  {
   "cell_type": "code",
   "execution_count": 331,
   "metadata": {},
   "outputs": [
    {
     "name": "stdout",
     "output_type": "stream",
     "text": [
      "F1 Score\n",
      "1.0\n",
      "\n",
      "precision\n",
      "1.0\n",
      "\n",
      "Recall\n",
      "1.0\n"
     ]
    }
   ],
   "source": [
    "print(\"F1 Score\")\n",
    "print(f1_score(test_y, prediction, average=\"macro\"))\n",
    "print(\"\\nprecision\")\n",
    "print(precision_score(test_y, prediction, average=\"macro\"))\n",
    "print(\"\\nRecall\")\n",
    "print(recall_score(test_y, prediction, average=\"macro\"))"
   ]
  },
  {
   "cell_type": "code",
   "execution_count": 333,
   "metadata": {},
   "outputs": [],
   "source": [
    "from joblib import dump, load"
   ]
  },
  {
   "cell_type": "code",
   "execution_count": 335,
   "metadata": {},
   "outputs": [
    {
     "data": {
      "text/plain": [
       "['lr.joblib']"
      ]
     },
     "execution_count": 335,
     "metadata": {},
     "output_type": "execute_result"
    }
   ],
   "source": [
    "dump(model, 'lr.joblib')"
   ]
  },
  {
   "cell_type": "code",
   "execution_count": 336,
   "metadata": {},
   "outputs": [
    {
     "data": {
      "text/plain": [
       "['columns.joblib']"
      ]
     },
     "execution_count": 336,
     "metadata": {},
     "output_type": "execute_result"
    }
   ],
   "source": [
    "dump(train_X.columns, 'columns.joblib')"
   ]
  },
  {
   "cell_type": "code",
   "execution_count": null,
   "metadata": {},
   "outputs": [],
   "source": []
  }
 ],
 "metadata": {
  "kernelspec": {
   "display_name": "Python 3",
   "language": "python",
   "name": "python3"
  },
  "language_info": {
   "codemirror_mode": {
    "name": "ipython",
    "version": 3
   },
   "file_extension": ".py",
   "mimetype": "text/x-python",
   "name": "python",
   "nbconvert_exporter": "python",
   "pygments_lexer": "ipython3",
   "version": "3.7.1"
  }
 },
 "nbformat": 4,
 "nbformat_minor": 2
}
